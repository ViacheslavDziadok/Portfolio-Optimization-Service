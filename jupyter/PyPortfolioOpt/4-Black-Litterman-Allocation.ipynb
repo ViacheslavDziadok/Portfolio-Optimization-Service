{
  "cells": [
    {
      "attachments": {},
      "cell_type": "markdown",
      "metadata": {
        "id": "WzHr8McwAbNd"
      },
      "source": [
        "# Black-Litterman allocation\n",
        "\n",
        "The Black-Litterman method is a very powerful way of converting your views on asset returns, along with your uncertainty in these views, into a portfolio.\n",
        "\n",
        "For a description of the theory, please read the [documentation page](https://pyportfolioopt.readthedocs.io/en/latest/BlackLitterman.html) and the links therein.\n",
        "\n",
        "In this recipe, we will cover:\n",
        "\n",
        "- Downloading data for the Black-Litterman method\n",
        "- Constructing the prior return vector based on market equilibrium\n",
        "- Two ways of constructing the uncertainty matrix\n",
        "- Combining Black-Litterman with mean-variance optimization\n",
        "\n",
        "## Downloading data\n",
        "\n",
        "In addition to price data, constructing a market prior requires market-caps."
      ]
    },
    {
      "cell_type": "code",
      "execution_count": 1,
      "metadata": {
        "id": "bs5cBlLfAbNf"
      },
      "outputs": [],
      "source": [
        "import numpy as np\n",
        "import pandas as pd\n",
        "import matplotlib.pyplot as plt\n",
        "import yfinance as yf"
      ]
    },
    {
      "cell_type": "code",
      "execution_count": 2,
      "metadata": {
        "id": "_2kfAeqOAbNg"
      },
      "outputs": [],
      "source": [
        "tickers = [\"MSFT\", \"AMZN\", \"NAT\", \"BAC\", \"DPZ\", \"DIS\", \"KO\", \"MCD\", \"COST\", \"SBUX\"]"
      ]
    },
    {
      "cell_type": "code",
      "execution_count": 3,
      "metadata": {
        "colab": {
          "base_uri": "https://localhost:8080/",
          "height": 255
        },
        "id": "ghoX_hFkAbNg",
        "outputId": "6104b7ab-5a41-47c3-9d2b-5787517a4b99"
      },
      "outputs": [
        {
          "name": "stdout",
          "output_type": "stream",
          "text": [
            "[*********************100%***********************]  10 of 10 completed\n"
          ]
        },
        {
          "data": {
            "text/html": [
              "<div>\n",
              "<style scoped>\n",
              "    .dataframe tbody tr th:only-of-type {\n",
              "        vertical-align: middle;\n",
              "    }\n",
              "\n",
              "    .dataframe tbody tr th {\n",
              "        vertical-align: top;\n",
              "    }\n",
              "\n",
              "    .dataframe thead th {\n",
              "        text-align: right;\n",
              "    }\n",
              "</style>\n",
              "<table border=\"1\" class=\"dataframe\">\n",
              "  <thead>\n",
              "    <tr style=\"text-align: right;\">\n",
              "      <th></th>\n",
              "      <th>AMZN</th>\n",
              "      <th>BAC</th>\n",
              "      <th>COST</th>\n",
              "      <th>DIS</th>\n",
              "      <th>DPZ</th>\n",
              "      <th>KO</th>\n",
              "      <th>MCD</th>\n",
              "      <th>MSFT</th>\n",
              "      <th>NAT</th>\n",
              "      <th>SBUX</th>\n",
              "    </tr>\n",
              "    <tr>\n",
              "      <th>Date</th>\n",
              "      <th></th>\n",
              "      <th></th>\n",
              "      <th></th>\n",
              "      <th></th>\n",
              "      <th></th>\n",
              "      <th></th>\n",
              "      <th></th>\n",
              "      <th></th>\n",
              "      <th></th>\n",
              "      <th></th>\n",
              "    </tr>\n",
              "  </thead>\n",
              "  <tbody>\n",
              "    <tr>\n",
              "      <th>2023-04-24</th>\n",
              "      <td>106.209999</td>\n",
              "      <td>29.760000</td>\n",
              "      <td>511.420013</td>\n",
              "      <td>99.680000</td>\n",
              "      <td>330.269989</td>\n",
              "      <td>63.950001</td>\n",
              "      <td>293.200012</td>\n",
              "      <td>281.769989</td>\n",
              "      <td>3.77</td>\n",
              "      <td>109.290001</td>\n",
              "    </tr>\n",
              "    <tr>\n",
              "      <th>2023-04-25</th>\n",
              "      <td>102.570000</td>\n",
              "      <td>28.840000</td>\n",
              "      <td>503.170013</td>\n",
              "      <td>98.010002</td>\n",
              "      <td>329.630005</td>\n",
              "      <td>63.849998</td>\n",
              "      <td>291.510010</td>\n",
              "      <td>275.420013</td>\n",
              "      <td>3.63</td>\n",
              "      <td>109.339996</td>\n",
              "    </tr>\n",
              "    <tr>\n",
              "      <th>2023-04-26</th>\n",
              "      <td>104.980003</td>\n",
              "      <td>28.440001</td>\n",
              "      <td>494.660004</td>\n",
              "      <td>96.610001</td>\n",
              "      <td>339.029999</td>\n",
              "      <td>63.549999</td>\n",
              "      <td>289.760010</td>\n",
              "      <td>295.369995</td>\n",
              "      <td>3.51</td>\n",
              "      <td>111.470001</td>\n",
              "    </tr>\n",
              "    <tr>\n",
              "      <th>2023-04-27</th>\n",
              "      <td>109.820000</td>\n",
              "      <td>28.889999</td>\n",
              "      <td>501.269989</td>\n",
              "      <td>99.930000</td>\n",
              "      <td>317.140015</td>\n",
              "      <td>63.680000</td>\n",
              "      <td>294.720001</td>\n",
              "      <td>304.829987</td>\n",
              "      <td>3.50</td>\n",
              "      <td>112.750000</td>\n",
              "    </tr>\n",
              "    <tr>\n",
              "      <th>2023-04-28</th>\n",
              "      <td>105.449997</td>\n",
              "      <td>29.280001</td>\n",
              "      <td>503.220001</td>\n",
              "      <td>102.500000</td>\n",
              "      <td>317.470001</td>\n",
              "      <td>64.150002</td>\n",
              "      <td>295.750000</td>\n",
              "      <td>307.260010</td>\n",
              "      <td>3.53</td>\n",
              "      <td>114.290001</td>\n",
              "    </tr>\n",
              "  </tbody>\n",
              "</table>\n",
              "</div>"
            ],
            "text/plain": [
              "                  AMZN        BAC        COST         DIS         DPZ   \n",
              "Date                                                                    \n",
              "2023-04-24  106.209999  29.760000  511.420013   99.680000  330.269989  \\\n",
              "2023-04-25  102.570000  28.840000  503.170013   98.010002  329.630005   \n",
              "2023-04-26  104.980003  28.440001  494.660004   96.610001  339.029999   \n",
              "2023-04-27  109.820000  28.889999  501.269989   99.930000  317.140015   \n",
              "2023-04-28  105.449997  29.280001  503.220001  102.500000  317.470001   \n",
              "\n",
              "                   KO         MCD        MSFT   NAT        SBUX  \n",
              "Date                                                             \n",
              "2023-04-24  63.950001  293.200012  281.769989  3.77  109.290001  \n",
              "2023-04-25  63.849998  291.510010  275.420013  3.63  109.339996  \n",
              "2023-04-26  63.549999  289.760010  295.369995  3.51  111.470001  \n",
              "2023-04-27  63.680000  294.720001  304.829987  3.50  112.750000  \n",
              "2023-04-28  64.150002  295.750000  307.260010  3.53  114.290001  "
            ]
          },
          "execution_count": 3,
          "metadata": {},
          "output_type": "execute_result"
        }
      ],
      "source": [
        "ohlc = yf.download(tickers, period=\"max\")\n",
        "prices = ohlc[\"Adj Close\"]\n",
        "prices.tail()"
      ]
    },
    {
      "cell_type": "code",
      "execution_count": 4,
      "metadata": {
        "colab": {
          "base_uri": "https://localhost:8080/"
        },
        "id": "WmtKlXfLAbNi",
        "outputId": "ea14863a-b8a0-4c19-9c85-bea9fbdf29bc"
      },
      "outputs": [
        {
          "name": "stdout",
          "output_type": "stream",
          "text": [
            "[*********************100%***********************]  1 of 1 completed\n"
          ]
        },
        {
          "data": {
            "text/plain": [
              "Date\n",
              "1993-01-29    25.122347\n",
              "1993-02-01    25.301029\n",
              "1993-02-02    25.354637\n",
              "1993-02-03    25.622635\n",
              "1993-02-04    25.729849\n",
              "Name: Adj Close, dtype: float64"
            ]
          },
          "execution_count": 4,
          "metadata": {},
          "output_type": "execute_result"
        }
      ],
      "source": [
        "market_prices = yf.download(\"SPY\", period=\"max\")[\"Adj Close\"]\n",
        "market_prices.head()"
      ]
    },
    {
      "cell_type": "code",
      "execution_count": 5,
      "metadata": {
        "colab": {
          "base_uri": "https://localhost:8080/"
        },
        "id": "rZwXHHxxAbNi",
        "outputId": "dee319be-67e2-44e7-e576-96c2b934d139"
      },
      "outputs": [
        {
          "data": {
            "text/plain": [
              "{'MSFT': 2284628738048,\n",
              " 'AMZN': 1081706086400,\n",
              " 'NAT': 737049856,\n",
              " 'BAC': 233433055232,\n",
              " 'DPZ': 11244279808,\n",
              " 'DIS': 187248017408,\n",
              " 'KO': 277421817856,\n",
              " 'MCD': 215906959360,\n",
              " 'COST': 223169527808,\n",
              " 'SBUX': 131353493504}"
            ]
          },
          "execution_count": 5,
          "metadata": {},
          "output_type": "execute_result"
        }
      ],
      "source": [
        "mcaps = {}\n",
        "for t in tickers:\n",
        "    stock = yf.Ticker(t)\n",
        "    mcaps[t] = stock.info[\"marketCap\"]\n",
        "mcaps"
      ]
    },
    {
      "attachments": {},
      "cell_type": "markdown",
      "metadata": {
        "id": "w6cnqTB8AbNi"
      },
      "source": [
        "## Constructing the prior"
      ]
    },
    {
      "cell_type": "code",
      "execution_count": 6,
      "metadata": {
        "colab": {
          "base_uri": "https://localhost:8080/",
          "height": 35
        },
        "id": "KMyL_d0mAbNj",
        "outputId": "83c8ff0b-6ac3-4c80-9bea-8f6216384238"
      },
      "outputs": [
        {
          "data": {
            "text/plain": [
              "'1.5.2'"
            ]
          },
          "execution_count": 6,
          "metadata": {},
          "output_type": "execute_result"
        }
      ],
      "source": [
        "import pypfopt\n",
        "pypfopt.__version__"
      ]
    },
    {
      "cell_type": "code",
      "execution_count": 7,
      "metadata": {
        "colab": {
          "base_uri": "https://localhost:8080/"
        },
        "id": "V35ccSUSAbNj",
        "outputId": "bdc6d9bc-33c2-47b6-ac60-c43a4cfed6b5"
      },
      "outputs": [
        {
          "data": {
            "text/plain": [
              "2.5412199245233515"
            ]
          },
          "execution_count": 7,
          "metadata": {},
          "output_type": "execute_result"
        }
      ],
      "source": [
        "from pypfopt import black_litterman, risk_models\n",
        "from pypfopt import BlackLittermanModel, plotting\n",
        "\n",
        "S = risk_models.CovarianceShrinkage(prices).ledoit_wolf()\n",
        "delta = black_litterman.market_implied_risk_aversion(market_prices)\n",
        "delta"
      ]
    },
    {
      "cell_type": "code",
      "execution_count": 8,
      "metadata": {
        "colab": {
          "base_uri": "https://localhost:8080/",
          "height": 297
        },
        "id": "tgz3bOltAbNj",
        "outputId": "41740df8-87ca-45c7-b0ef-4af343ae3b0a"
      },
      "outputs": [
        {
          "data": {
            "image/png": "[encoded data removed]",
            "text/plain": [
              "<Figure size 640x480 with 2 Axes>"
            ]
          },
          "metadata": {},
          "output_type": "display_data"
        }
      ],
      "source": [
        "plotting.plot_covariance(S, plot_correlation=True);"
      ]
    },
    {
      "cell_type": "code",
      "execution_count": 9,
      "metadata": {
        "colab": {
          "base_uri": "https://localhost:8080/"
        },
        "id": "qknxazUhAbNk",
        "outputId": "eb6b5bdf-7a31-4c76-90e0-ca2a751126ee"
      },
      "outputs": [
        {
          "data": {
            "text/plain": [
              "AMZN    0.153288\n",
              "BAC     0.099106\n",
              "COST    0.077011\n",
              "DIS     0.092642\n",
              "DPZ     0.047818\n",
              "KO      0.064515\n",
              "MCD     0.068432\n",
              "MSFT    0.140092\n",
              "NAT     0.050765\n",
              "SBUX    0.078862\n",
              "dtype: float64"
            ]
          },
          "execution_count": 9,
          "metadata": {},
          "output_type": "execute_result"
        }
      ],
      "source": [
        "market_prior = black_litterman.market_implied_prior_returns(mcaps, delta, S)\n",
        "market_prior"
      ]
    },
    {
      "cell_type": "code",
      "execution_count": 10,
      "metadata": {
        "colab": {
          "base_uri": "https://localhost:8080/",
          "height": 320
        },
        "id": "9exlhi1BAbNk",
        "outputId": "a1292c4b-38b9-4c02-919d-b9cf33a4309e"
      },
      "outputs": [
        {
          "data": {
            "image/png": "[encoded data removed]",
            "text/plain": [
              "<Figure size 1000x500 with 1 Axes>"
            ]
          },
          "metadata": {},
          "output_type": "display_data"
        }
      ],
      "source": [
        "market_prior.plot.barh(figsize=(10,5));"
      ]
    },
    {
      "attachments": {},
      "cell_type": "markdown",
      "metadata": {
        "id": "v1YzJTJFAbNl"
      },
      "source": [
        "## Views\n",
        "\n",
        "In the BL method, views are specified via the matrix P (picking matrix) and the vector Q. Q contains the magnitude of each view, while P maps the views to the assets they belong to. \n",
        "\n",
        "If you are providing **absolute views** (i.e a return estimate for each asset), you don't have to worry about P and Q, you can just pass your views as a dictionary."
      ]
    },
    {
      "cell_type": "code",
      "execution_count": 11,
      "metadata": {
        "id": "uTP2BVZIAbNl"
      },
      "outputs": [],
      "source": [
        "# You don't have to provide views on all the assets\n",
        "viewdict = {\n",
        "    \"AMZN\": 0.10,\n",
        "    \"BAC\": 0.30,\n",
        "    \"COST\": 0.05,\n",
        "    \"DIS\": 0.05,\n",
        "    \"DPZ\": 0.20,\n",
        "    \"KO\": -0.05,  # I think Coca-Cola will go down 5%\n",
        "    \"MCD\": 0.15,\n",
        "    \"MSFT\": 0.10,\n",
        "    \"NAT\": 0.50,  # but low confidence, which will be reflected later\n",
        "    \"SBUX\": 0.10\n",
        "}\n",
        "\n",
        "bl = BlackLittermanModel(S, pi=market_prior, absolute_views=viewdict)"
      ]
    },
    {
      "attachments": {},
      "cell_type": "markdown",
      "metadata": {
        "id": "fA5PRsozAbNm"
      },
      "source": [
        "Black-Litterman also allows for relative views, e.g you think asset A will outperform asset B by 10%. If you'd like to incorporate these, you will have to build P and Q yourself. An explanation for this is given in the [docs](https://pyportfolioopt.readthedocs.io/en/latest/BlackLitterman.html#views)."
      ]
    },
    {
      "attachments": {},
      "cell_type": "markdown",
      "metadata": {
        "id": "QIMKGZEoAbNm"
      },
      "source": [
        "## View confidences\n",
        "\n",
        "In this section, we provide two ways that you may wish to construct the uncertainty matrix. The first is known as Idzorek's method. It allows you to specify a vector/list of percentage confidences."
      ]
    },
    {
      "cell_type": "code",
      "execution_count": 12,
      "metadata": {
        "id": "Z0Pzoio1AbNm"
      },
      "outputs": [],
      "source": [
        "confidences = [\n",
        "    0.6,\n",
        "    0.4,\n",
        "    0.2,\n",
        "    0.5,\n",
        "    0.7, # confident in dominos\n",
        "    0.7, # confident KO will do poorly\n",
        "    0.7, \n",
        "    0.5,\n",
        "    0.1,\n",
        "    0.4\n",
        "]"
      ]
    },
    {
      "cell_type": "code",
      "execution_count": 13,
      "metadata": {
        "id": "EaRmLt4IAbNm"
      },
      "outputs": [],
      "source": [
        "bl = BlackLittermanModel(S, pi=market_prior, absolute_views=viewdict, omega=\"idzorek\", view_confidences=confidences)"
      ]
    },
    {
      "cell_type": "code",
      "execution_count": 14,
      "metadata": {
        "colab": {
          "base_uri": "https://localhost:8080/",
          "height": 428
        },
        "id": "fo6SKTGAAbNn",
        "outputId": "49517772-73fa-405b-a164-8a39c1456faf"
      },
      "outputs": [
        {
          "data": {
            "image/png": "[encoded data removed]",
            "text/plain": [
              "<Figure size 700x700 with 1 Axes>"
            ]
          },
          "metadata": {},
          "output_type": "display_data"
        }
      ],
      "source": [
        "fig, ax = plt.subplots(figsize=(7,7))\n",
        "im = ax.imshow(bl.omega)\n",
        "\n",
        "# We want to show all ticks...\n",
        "ax.set_xticks(np.arange(len(bl.tickers)))\n",
        "ax.set_yticks(np.arange(len(bl.tickers)))\n",
        "\n",
        "ax.set_xticklabels(bl.tickers)\n",
        "ax.set_yticklabels(bl.tickers)\n",
        "plt.show()"
      ]
    },
    {
      "cell_type": "code",
      "execution_count": 15,
      "metadata": {
        "colab": {
          "base_uri": "https://localhost:8080/"
        },
        "id": "58aBtbhuAbNn",
        "outputId": "31bcfa00-46ba-4600-b626-c7cf15a352b8"
      },
      "outputs": [
        {
          "data": {
            "text/plain": [
              "array([0.00461475, 0.00889163, 0.01215993, 0.00498129, 0.00085369,\n",
              "       0.00114708, 0.00171296, 0.00348085, 0.04108595, 0.005412  ])"
            ]
          },
          "execution_count": 15,
          "metadata": {},
          "output_type": "execute_result"
        }
      ],
      "source": [
        "np.diag(bl.omega)"
      ]
    },
    {
      "attachments": {},
      "cell_type": "markdown",
      "metadata": {
        "id": "lUGduOmsAbNn"
      },
      "source": [
        "Note how NAT, which we gave the lowest confidence, also has the highest uncertainty.\n",
        "\n",
        "Instead of inputting confidences, we can calculate the uncertainty matrix directly by specifying 1 standard deviation confidence intervals, i.e bounds which we think will contain the true return 68% of the time. This may be easier than coming up with somewhat arbitrary percentage confidences"
      ]
    },
    {
      "cell_type": "code",
      "execution_count": 16,
      "metadata": {
        "id": "QQtnWs9xAbNn"
      },
      "outputs": [],
      "source": [
        "intervals = [\n",
        "    (0, 0.25),\n",
        "    (0.1, 0.4),\n",
        "    (-0.1, 0.15),\n",
        "    (-0.05, 0.1),\n",
        "    (0.15, 0.25),\n",
        "    (-0.1, 0),\n",
        "    (0.1, 0.2),\n",
        "    (0.08, 0.12),\n",
        "    (0.1, 0.9),\n",
        "    (0, 0.3)\n",
        "]"
      ]
    },
    {
      "cell_type": "code",
      "execution_count": 17,
      "metadata": {
        "colab": {
          "base_uri": "https://localhost:8080/"
        },
        "id": "avW4ld8bAbNo",
        "outputId": "540d7109-e20f-4eb4-e32d-fb16ae670a5b"
      },
      "outputs": [
        {
          "name": "stdout",
          "output_type": "stream",
          "text": [
            "[0.015625, 0.022500000000000006, 0.015625, 0.0056250000000000015, 0.0025000000000000005, 0.0025000000000000005, 0.0025000000000000005, 0.00039999999999999986, 0.16000000000000003, 0.0225]\n"
          ]
        }
      ],
      "source": [
        "variances = []\n",
        "for lb, ub in intervals:\n",
        "    sigma = (ub - lb)/2\n",
        "    variances.append(sigma ** 2)\n",
        "\n",
        "print(variances)\n",
        "omega = np.diag(variances)"
      ]
    },
    {
      "attachments": {},
      "cell_type": "markdown",
      "metadata": {
        "id": "VlVq9sICAbNo"
      },
      "source": [
        "## Posterior estimates\n",
        "\n",
        "Given the inputs, we can compute a posterior estimate of returns\n"
      ]
    },
    {
      "cell_type": "code",
      "execution_count": 18,
      "metadata": {
        "id": "478dHIDHAbNo"
      },
      "outputs": [],
      "source": [
        "# We are using the shortcut to automatically compute market-implied prior\n",
        "bl = BlackLittermanModel(S, pi=\"market\", market_caps=mcaps, risk_aversion=delta,\n",
        "                        absolute_views=viewdict, omega=omega)"
      ]
    },
    {
      "cell_type": "code",
      "execution_count": 19,
      "metadata": {
        "colab": {
          "base_uri": "https://localhost:8080/"
        },
        "id": "A9VSO7xAAbNo",
        "outputId": "c501cc36-8719-4826-d2b9-c138ab2f46c5"
      },
      "outputs": [
        {
          "data": {
            "text/plain": [
              "AMZN    0.136179\n",
              "BAC     0.130071\n",
              "COST    0.061436\n",
              "DIS     0.071603\n",
              "DPZ     0.103862\n",
              "KO      0.008256\n",
              "MCD     0.103908\n",
              "MSFT    0.103966\n",
              "NAT     0.061059\n",
              "SBUX    0.082103\n",
              "dtype: float64"
            ]
          },
          "execution_count": 19,
          "metadata": {},
          "output_type": "execute_result"
        }
      ],
      "source": [
        "# Posterior estimate of returns\n",
        "ret_bl = bl.bl_returns()\n",
        "ret_bl"
      ]
    },
    {
      "attachments": {},
      "cell_type": "markdown",
      "metadata": {
        "id": "eRKmlKABAbNo"
      },
      "source": [
        "We can visualise how this compares to the prior and our views:"
      ]
    },
    {
      "cell_type": "code",
      "execution_count": 20,
      "metadata": {
        "colab": {
          "base_uri": "https://localhost:8080/",
          "height": 363
        },
        "id": "KHfvi6KvAbNp",
        "outputId": "ee876b7b-a24c-4dea-c344-a1c8a5c6c7d4"
      },
      "outputs": [
        {
          "data": {
            "text/html": [
              "<div>\n",
              "<style scoped>\n",
              "    .dataframe tbody tr th:only-of-type {\n",
              "        vertical-align: middle;\n",
              "    }\n",
              "\n",
              "    .dataframe tbody tr th {\n",
              "        vertical-align: top;\n",
              "    }\n",
              "\n",
              "    .dataframe thead th {\n",
              "        text-align: right;\n",
              "    }\n",
              "</style>\n",
              "<table border=\"1\" class=\"dataframe\">\n",
              "  <thead>\n",
              "    <tr style=\"text-align: right;\">\n",
              "      <th></th>\n",
              "      <th>Prior</th>\n",
              "      <th>Posterior</th>\n",
              "      <th>Views</th>\n",
              "    </tr>\n",
              "  </thead>\n",
              "  <tbody>\n",
              "    <tr>\n",
              "      <th>AMZN</th>\n",
              "      <td>0.153288</td>\n",
              "      <td>0.136179</td>\n",
              "      <td>0.10</td>\n",
              "    </tr>\n",
              "    <tr>\n",
              "      <th>BAC</th>\n",
              "      <td>0.099106</td>\n",
              "      <td>0.130071</td>\n",
              "      <td>0.30</td>\n",
              "    </tr>\n",
              "    <tr>\n",
              "      <th>COST</th>\n",
              "      <td>0.077011</td>\n",
              "      <td>0.061436</td>\n",
              "      <td>0.05</td>\n",
              "    </tr>\n",
              "    <tr>\n",
              "      <th>DIS</th>\n",
              "      <td>0.092642</td>\n",
              "      <td>0.071603</td>\n",
              "      <td>0.05</td>\n",
              "    </tr>\n",
              "    <tr>\n",
              "      <th>DPZ</th>\n",
              "      <td>0.047818</td>\n",
              "      <td>0.103862</td>\n",
              "      <td>0.20</td>\n",
              "    </tr>\n",
              "    <tr>\n",
              "      <th>KO</th>\n",
              "      <td>0.064515</td>\n",
              "      <td>0.008256</td>\n",
              "      <td>-0.05</td>\n",
              "    </tr>\n",
              "    <tr>\n",
              "      <th>MCD</th>\n",
              "      <td>0.068432</td>\n",
              "      <td>0.103908</td>\n",
              "      <td>0.15</td>\n",
              "    </tr>\n",
              "    <tr>\n",
              "      <th>MSFT</th>\n",
              "      <td>0.140092</td>\n",
              "      <td>0.103966</td>\n",
              "      <td>0.10</td>\n",
              "    </tr>\n",
              "    <tr>\n",
              "      <th>NAT</th>\n",
              "      <td>0.050765</td>\n",
              "      <td>0.061059</td>\n",
              "      <td>0.50</td>\n",
              "    </tr>\n",
              "    <tr>\n",
              "      <th>SBUX</th>\n",
              "      <td>0.078862</td>\n",
              "      <td>0.082103</td>\n",
              "      <td>0.10</td>\n",
              "    </tr>\n",
              "  </tbody>\n",
              "</table>\n",
              "</div>"
            ],
            "text/plain": [
              "         Prior  Posterior  Views\n",
              "AMZN  0.153288   0.136179   0.10\n",
              "BAC   0.099106   0.130071   0.30\n",
              "COST  0.077011   0.061436   0.05\n",
              "DIS   0.092642   0.071603   0.05\n",
              "DPZ   0.047818   0.103862   0.20\n",
              "KO    0.064515   0.008256  -0.05\n",
              "MCD   0.068432   0.103908   0.15\n",
              "MSFT  0.140092   0.103966   0.10\n",
              "NAT   0.050765   0.061059   0.50\n",
              "SBUX  0.078862   0.082103   0.10"
            ]
          },
          "execution_count": 20,
          "metadata": {},
          "output_type": "execute_result"
        }
      ],
      "source": [
        "rets_df = pd.DataFrame([market_prior, ret_bl, pd.Series(viewdict)], \n",
        "             index=[\"Prior\", \"Posterior\", \"Views\"]).T\n",
        "rets_df"
      ]
    },
    {
      "cell_type": "code",
      "execution_count": 21,
      "metadata": {
        "colab": {
          "base_uri": "https://localhost:8080/",
          "height": 503
        },
        "id": "n55wKWFuAbNp",
        "outputId": "9445d68a-279e-4cfe-85a6-0609e411b03c"
      },
      "outputs": [
        {
          "data": {
            "image/png": "[encoded data removed]",
            "text/plain": [
              "<Figure size 1200x800 with 1 Axes>"
            ]
          },
          "metadata": {},
          "output_type": "display_data"
        }
      ],
      "source": [
        "rets_df.plot.bar(figsize=(12,8));"
      ]
    },
    {
      "attachments": {},
      "cell_type": "markdown",
      "metadata": {
        "id": "fuizxt0NAbNp"
      },
      "source": [
        "Notice that the posterior is often between the prior and the views. This supports the fact that the BL method is essentially a Bayesian weighted-average of the prior and views, where the weight is determined by the confidence.\n",
        "\n",
        "A similar but less intuitive procedure can be used to produce the posterior covariance estimate:"
      ]
    },
    {
      "cell_type": "code",
      "execution_count": 22,
      "metadata": {
        "colab": {
          "base_uri": "https://localhost:8080/",
          "height": 297
        },
        "id": "i6S1l2-aAbNp",
        "outputId": "411f2876-67fb-4d2d-8f88-4b63463bf10f"
      },
      "outputs": [
        {
          "data": {
            "image/png": "[encoded data removed]",
            "text/plain": [
              "<Figure size 640x480 with 2 Axes>"
            ]
          },
          "metadata": {},
          "output_type": "display_data"
        }
      ],
      "source": [
        "S_bl = bl.bl_cov()\n",
        "plotting.plot_covariance(S_bl);"
      ]
    },
    {
      "attachments": {},
      "cell_type": "markdown",
      "metadata": {
        "id": "YC9fNRAbAbNp"
      },
      "source": [
        "## Portfolio allocation\n",
        "\n",
        "Now that we have constructed our Black-Litterman posterior estimate, we can proceed to use any of the optimizers discussed in previous recipes."
      ]
    },
    {
      "cell_type": "code",
      "execution_count": 23,
      "metadata": {
        "id": "hDS0vIUCAbNp"
      },
      "outputs": [],
      "source": [
        "from pypfopt import EfficientFrontier, objective_functions"
      ]
    },
    {
      "cell_type": "code",
      "execution_count": 24,
      "metadata": {
        "colab": {
          "base_uri": "https://localhost:8080/"
        },
        "id": "qylII3-oAbNp",
        "outputId": "f81f870a-3181-42ba-afcf-321674ddf5d7"
      },
      "outputs": [
        {
          "name": "stderr",
          "output_type": "stream",
          "text": [
            "c:\\Users\\Viacheslav Dziadok\\.conda\\envs\\PortOpt\\Lib\\site-packages\\pypfopt\\efficient_frontier\\efficient_frontier.py:257: UserWarning: max_sharpe transforms the optimization problem so additional objectives may not work as expected.\n",
            "  warnings.warn(\n"
          ]
        },
        {
          "data": {
            "text/plain": [
              "OrderedDict([('AMZN', 0.17206),\n",
              "             ('BAC', 0.16233),\n",
              "             ('COST', 0.05657),\n",
              "             ('DIS', 0.06592),\n",
              "             ('DPZ', 0.1388),\n",
              "             ('KO', 0.0),\n",
              "             ('MCD', 0.13066),\n",
              "             ('MSFT', 0.1271),\n",
              "             ('NAT', 0.05757),\n",
              "             ('SBUX', 0.089)])"
            ]
          },
          "execution_count": 24,
          "metadata": {},
          "output_type": "execute_result"
        }
      ],
      "source": [
        "ef = EfficientFrontier(ret_bl, S_bl)\n",
        "ef.add_objective(objective_functions.L2_reg)\n",
        "ef.max_sharpe()\n",
        "weights = ef.clean_weights()\n",
        "weights"
      ]
    },
    {
      "cell_type": "code",
      "execution_count": 25,
      "metadata": {
        "colab": {
          "base_uri": "https://localhost:8080/",
          "height": 575
        },
        "id": "9_pWobQoAbNq",
        "outputId": "e50c07ee-7274-4936-8f0f-e347309013b9"
      },
      "outputs": [
        {
          "data": {
            "image/png": "[encoded data removed]",
            "text/plain": [
              "<Figure size 1000x1000 with 1 Axes>"
            ]
          },
          "metadata": {},
          "output_type": "display_data"
        }
      ],
      "source": [
        "pd.Series(weights).plot.pie(figsize=(10,10));"
      ]
    },
    {
      "cell_type": "code",
      "execution_count": 26,
      "metadata": {
        "colab": {
          "base_uri": "https://localhost:8080/"
        },
        "id": "8YHugSK8AbNq",
        "outputId": "095c7b24-0f63-4c6a-a80b-91247548486b"
      },
      "outputs": [
        {
          "name": "stdout",
          "output_type": "stream",
          "text": [
            "Leftover: $0.40\n"
          ]
        },
        {
          "data": {
            "text/plain": [
              "{'AMZN': 33,\n",
              " 'BAC': 110,\n",
              " 'COST': 2,\n",
              " 'DIS': 13,\n",
              " 'DPZ': 9,\n",
              " 'MCD': 9,\n",
              " 'MSFT': 8,\n",
              " 'NAT': 327,\n",
              " 'SBUX': 16}"
            ]
          },
          "execution_count": 26,
          "metadata": {},
          "output_type": "execute_result"
        }
      ],
      "source": [
        "from pypfopt import DiscreteAllocation\n",
        "\n",
        "da = DiscreteAllocation(weights, prices.iloc[-1], total_portfolio_value=20000)\n",
        "alloc, leftover = da.lp_portfolio()\n",
        "print(f\"Leftover: ${leftover:.2f}\")\n",
        "alloc"
      ]
    }
  ],
  "metadata": {
    "colab": {
      "collapsed_sections": [],
      "name": "4-Black-Litterman-Allocation.ipynb",
      "provenance": []
    },
    "kernelspec": {
      "display_name": "Python 3",
      "name": "python3"
    },
    "language_info": {
      "codemirror_mode": {
        "name": "ipython",
        "version": 3
      },
      "file_extension": ".py",
      "mimetype": "text/x-python",
      "name": "python",
      "nbconvert_exporter": "python",
      "pygments_lexer": "ipython3",
      "version": "3.11.3"
    }
  },
  "nbformat": 4,
  "nbformat_minor": 0
}
