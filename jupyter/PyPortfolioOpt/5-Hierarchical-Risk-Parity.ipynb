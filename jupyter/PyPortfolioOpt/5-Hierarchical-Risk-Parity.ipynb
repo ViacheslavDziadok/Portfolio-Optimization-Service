{
  "cells": [
    {
      "attachments": {},
      "cell_type": "markdown",
      "id": "consolidated-vault",
      "metadata": {
        "id": "consolidated-vault"
      },
      "source": [
        "# Hierarchical Risk Parity\n",
        "\n",
        "HRP is a modern portfolio optimization method inspired by machine learning.\n",
        "\n",
        "The idea is that by examining the hierarchical structure of the market, we can better diversify. \n",
        "\n",
        "In this cookbook recipe, we will cover:\n",
        "\n",
        "- Downloading data for HRP\n",
        "- Using HRP to find the minimum variance portfolio\n",
        "- Plotting dendrograms"
      ]
    },
    {
      "attachments": {},
      "cell_type": "markdown",
      "id": "saving-safety",
      "metadata": {
        "id": "saving-safety"
      },
      "source": [
        "## Downloading data\n",
        "\n",
        "HRP only requires historical returns"
      ]
    },
    {
      "cell_type": "code",
      "execution_count": 1,
      "id": "committed-riverside",
      "metadata": {
        "colab": {
          "base_uri": "https://localhost:8080/",
          "height": 35
        },
        "id": "committed-riverside",
        "outputId": "a3c8fb63-b1ef-4696-c0df-5b16f37700d8"
      },
      "outputs": [
        {
          "data": {
            "text/plain": [
              "'1.5.2'"
            ]
          },
          "execution_count": 1,
          "metadata": {},
          "output_type": "execute_result"
        }
      ],
      "source": [
        "import numpy as np\n",
        "import pandas as pd\n",
        "import matplotlib.pyplot as plt\n",
        "import yfinance as yf\n",
        "import pypfopt\n",
        "\n",
        "pypfopt.__version__"
      ]
    },
    {
      "cell_type": "code",
      "execution_count": 2,
      "id": "accredited-enterprise",
      "metadata": {
        "colab": {
          "base_uri": "https://localhost:8080/",
          "height": 385
        },
        "id": "accredited-enterprise",
        "outputId": "8ffbfbd3-9b0f-4c86-ec5a-0508c068314d"
      },
      "outputs": [
        {
          "name": "stdout",
          "output_type": "stream",
          "text": [
            "[*********************100%***********************]  15 of 15 completed\n"
          ]
        },
        {
          "data": {
            "text/html": [
              "<div>\n",
              "<style scoped>\n",
              "    .dataframe tbody tr th:only-of-type {\n",
              "        vertical-align: middle;\n",
              "    }\n",
              "\n",
              "    .dataframe tbody tr th {\n",
              "        vertical-align: top;\n",
              "    }\n",
              "\n",
              "    .dataframe thead th {\n",
              "        text-align: right;\n",
              "    }\n",
              "</style>\n",
              "<table border=\"1\" class=\"dataframe\">\n",
              "  <thead>\n",
              "    <tr style=\"text-align: right;\">\n",
              "      <th></th>\n",
              "      <th>AAPL</th>\n",
              "      <th>AMD</th>\n",
              "      <th>BAC</th>\n",
              "      <th>BLK</th>\n",
              "      <th>CVS</th>\n",
              "      <th>DIS</th>\n",
              "      <th>INTU</th>\n",
              "      <th>JD</th>\n",
              "      <th>MA</th>\n",
              "      <th>NVDA</th>\n",
              "      <th>PBI</th>\n",
              "      <th>TGT</th>\n",
              "      <th>TM</th>\n",
              "      <th>UL</th>\n",
              "      <th>WMT</th>\n",
              "    </tr>\n",
              "    <tr>\n",
              "      <th>Date</th>\n",
              "      <th></th>\n",
              "      <th></th>\n",
              "      <th></th>\n",
              "      <th></th>\n",
              "      <th></th>\n",
              "      <th></th>\n",
              "      <th></th>\n",
              "      <th></th>\n",
              "      <th></th>\n",
              "      <th></th>\n",
              "      <th></th>\n",
              "      <th></th>\n",
              "      <th></th>\n",
              "      <th></th>\n",
              "      <th></th>\n",
              "    </tr>\n",
              "  </thead>\n",
              "  <tbody>\n",
              "    <tr>\n",
              "      <th>2023-04-24</th>\n",
              "      <td>165.330002</td>\n",
              "      <td>87.570000</td>\n",
              "      <td>29.760000</td>\n",
              "      <td>674.190002</td>\n",
              "      <td>73.440002</td>\n",
              "      <td>99.680000</td>\n",
              "      <td>442.320007</td>\n",
              "      <td>34.680000</td>\n",
              "      <td>374.730011</td>\n",
              "      <td>270.420013</td>\n",
              "      <td>3.67</td>\n",
              "      <td>163.940002</td>\n",
              "      <td>134.839996</td>\n",
              "      <td>54.549999</td>\n",
              "      <td>152.759995</td>\n",
              "    </tr>\n",
              "    <tr>\n",
              "      <th>2023-04-25</th>\n",
              "      <td>163.770004</td>\n",
              "      <td>83.800003</td>\n",
              "      <td>28.840000</td>\n",
              "      <td>659.710022</td>\n",
              "      <td>72.870003</td>\n",
              "      <td>98.010002</td>\n",
              "      <td>419.829987</td>\n",
              "      <td>33.700001</td>\n",
              "      <td>368.529999</td>\n",
              "      <td>262.410004</td>\n",
              "      <td>3.56</td>\n",
              "      <td>157.610001</td>\n",
              "      <td>133.509995</td>\n",
              "      <td>54.700001</td>\n",
              "      <td>151.570007</td>\n",
              "    </tr>\n",
              "    <tr>\n",
              "      <th>2023-04-26</th>\n",
              "      <td>163.759995</td>\n",
              "      <td>85.940002</td>\n",
              "      <td>28.440001</td>\n",
              "      <td>650.669983</td>\n",
              "      <td>72.260002</td>\n",
              "      <td>96.610001</td>\n",
              "      <td>413.700012</td>\n",
              "      <td>34.230000</td>\n",
              "      <td>366.760010</td>\n",
              "      <td>269.559998</td>\n",
              "      <td>3.41</td>\n",
              "      <td>155.449997</td>\n",
              "      <td>134.020004</td>\n",
              "      <td>54.389999</td>\n",
              "      <td>150.910004</td>\n",
              "    </tr>\n",
              "    <tr>\n",
              "      <th>2023-04-27</th>\n",
              "      <td>168.410004</td>\n",
              "      <td>87.440002</td>\n",
              "      <td>28.889999</td>\n",
              "      <td>662.679993</td>\n",
              "      <td>73.059998</td>\n",
              "      <td>99.930000</td>\n",
              "      <td>429.160004</td>\n",
              "      <td>34.750000</td>\n",
              "      <td>373.670013</td>\n",
              "      <td>272.260010</td>\n",
              "      <td>3.60</td>\n",
              "      <td>158.149994</td>\n",
              "      <td>137.520004</td>\n",
              "      <td>55.490002</td>\n",
              "      <td>151.380005</td>\n",
              "    </tr>\n",
              "    <tr>\n",
              "      <th>2023-04-28</th>\n",
              "      <td>169.679993</td>\n",
              "      <td>89.370003</td>\n",
              "      <td>29.280001</td>\n",
              "      <td>671.200012</td>\n",
              "      <td>73.309998</td>\n",
              "      <td>102.500000</td>\n",
              "      <td>443.950012</td>\n",
              "      <td>35.720001</td>\n",
              "      <td>380.029999</td>\n",
              "      <td>277.489990</td>\n",
              "      <td>3.51</td>\n",
              "      <td>157.750000</td>\n",
              "      <td>137.330002</td>\n",
              "      <td>55.529999</td>\n",
              "      <td>150.970001</td>\n",
              "    </tr>\n",
              "  </tbody>\n",
              "</table>\n",
              "</div>"
            ],
            "text/plain": [
              "                  AAPL        AMD        BAC         BLK        CVS   \n",
              "Date                                                                  \n",
              "2023-04-24  165.330002  87.570000  29.760000  674.190002  73.440002  \\\n",
              "2023-04-25  163.770004  83.800003  28.840000  659.710022  72.870003   \n",
              "2023-04-26  163.759995  85.940002  28.440001  650.669983  72.260002   \n",
              "2023-04-27  168.410004  87.440002  28.889999  662.679993  73.059998   \n",
              "2023-04-28  169.679993  89.370003  29.280001  671.200012  73.309998   \n",
              "\n",
              "                   DIS        INTU         JD          MA        NVDA   PBI   \n",
              "Date                                                                          \n",
              "2023-04-24   99.680000  442.320007  34.680000  374.730011  270.420013  3.67  \\\n",
              "2023-04-25   98.010002  419.829987  33.700001  368.529999  262.410004  3.56   \n",
              "2023-04-26   96.610001  413.700012  34.230000  366.760010  269.559998  3.41   \n",
              "2023-04-27   99.930000  429.160004  34.750000  373.670013  272.260010  3.60   \n",
              "2023-04-28  102.500000  443.950012  35.720001  380.029999  277.489990  3.51   \n",
              "\n",
              "                   TGT          TM         UL         WMT  \n",
              "Date                                                       \n",
              "2023-04-24  163.940002  134.839996  54.549999  152.759995  \n",
              "2023-04-25  157.610001  133.509995  54.700001  151.570007  \n",
              "2023-04-26  155.449997  134.020004  54.389999  150.910004  \n",
              "2023-04-27  158.149994  137.520004  55.490002  151.380005  \n",
              "2023-04-28  157.750000  137.330002  55.529999  150.970001  "
            ]
          },
          "execution_count": 2,
          "metadata": {},
          "output_type": "execute_result"
        }
      ],
      "source": [
        "tickers = [\"BLK\", \"BAC\", \"AAPL\", \"TM\", \"WMT\",\n",
        "           \"JD\", \"INTU\", \"MA\", \"UL\", \"CVS\",\n",
        "           \"DIS\", \"AMD\", \"NVDA\", \"PBI\", \"TGT\"]\n",
        "\n",
        "ohlc = yf.download(tickers, period=\"max\")\n",
        "prices = ohlc[\"Adj Close\"]\n",
        "prices.tail()"
      ]
    },
    {
      "cell_type": "code",
      "execution_count": 3,
      "id": "confident-plant",
      "metadata": {
        "colab": {
          "base_uri": "https://localhost:8080/",
          "height": 281
        },
        "id": "confident-plant",
        "outputId": "3ca52fc5-22ff-4a25-d58d-9f3700b04bb3"
      },
      "outputs": [
        {
          "data": {
            "text/html": [
              "<div>\n",
              "<style scoped>\n",
              "    .dataframe tbody tr th:only-of-type {\n",
              "        vertical-align: middle;\n",
              "    }\n",
              "\n",
              "    .dataframe tbody tr th {\n",
              "        vertical-align: top;\n",
              "    }\n",
              "\n",
              "    .dataframe thead th {\n",
              "        text-align: right;\n",
              "    }\n",
              "</style>\n",
              "<table border=\"1\" class=\"dataframe\">\n",
              "  <thead>\n",
              "    <tr style=\"text-align: right;\">\n",
              "      <th></th>\n",
              "      <th>AAPL</th>\n",
              "      <th>AMD</th>\n",
              "      <th>BAC</th>\n",
              "      <th>BLK</th>\n",
              "      <th>CVS</th>\n",
              "      <th>DIS</th>\n",
              "      <th>INTU</th>\n",
              "      <th>JD</th>\n",
              "      <th>MA</th>\n",
              "      <th>NVDA</th>\n",
              "      <th>PBI</th>\n",
              "      <th>TGT</th>\n",
              "      <th>TM</th>\n",
              "      <th>UL</th>\n",
              "      <th>WMT</th>\n",
              "    </tr>\n",
              "    <tr>\n",
              "      <th>Date</th>\n",
              "      <th></th>\n",
              "      <th></th>\n",
              "      <th></th>\n",
              "      <th></th>\n",
              "      <th></th>\n",
              "      <th></th>\n",
              "      <th></th>\n",
              "      <th></th>\n",
              "      <th></th>\n",
              "      <th></th>\n",
              "      <th></th>\n",
              "      <th></th>\n",
              "      <th></th>\n",
              "      <th></th>\n",
              "      <th></th>\n",
              "    </tr>\n",
              "  </thead>\n",
              "  <tbody>\n",
              "    <tr>\n",
              "      <th>2023-04-24</th>\n",
              "      <td>0.001879</td>\n",
              "      <td>-0.009725</td>\n",
              "      <td>-0.003683</td>\n",
              "      <td>-0.009913</td>\n",
              "      <td>0.008237</td>\n",
              "      <td>0.001105</td>\n",
              "      <td>-0.009140</td>\n",
              "      <td>-0.026663</td>\n",
              "      <td>-0.001359</td>\n",
              "      <td>-0.002839</td>\n",
              "      <td>-0.013441</td>\n",
              "      <td>0.010852</td>\n",
              "      <td>0.001262</td>\n",
              "      <td>0.000734</td>\n",
              "      <td>0.006788</td>\n",
              "    </tr>\n",
              "    <tr>\n",
              "      <th>2023-04-25</th>\n",
              "      <td>-0.009436</td>\n",
              "      <td>-0.043051</td>\n",
              "      <td>-0.030914</td>\n",
              "      <td>-0.021478</td>\n",
              "      <td>-0.007761</td>\n",
              "      <td>-0.016754</td>\n",
              "      <td>-0.050846</td>\n",
              "      <td>-0.028258</td>\n",
              "      <td>-0.016545</td>\n",
              "      <td>-0.029621</td>\n",
              "      <td>-0.029973</td>\n",
              "      <td>-0.038612</td>\n",
              "      <td>-0.009864</td>\n",
              "      <td>0.002750</td>\n",
              "      <td>-0.007790</td>\n",
              "    </tr>\n",
              "    <tr>\n",
              "      <th>2023-04-26</th>\n",
              "      <td>-0.000061</td>\n",
              "      <td>0.025537</td>\n",
              "      <td>-0.013870</td>\n",
              "      <td>-0.013703</td>\n",
              "      <td>-0.008371</td>\n",
              "      <td>-0.014284</td>\n",
              "      <td>-0.014601</td>\n",
              "      <td>0.015727</td>\n",
              "      <td>-0.004803</td>\n",
              "      <td>0.027247</td>\n",
              "      <td>-0.042135</td>\n",
              "      <td>-0.013705</td>\n",
              "      <td>0.003820</td>\n",
              "      <td>-0.005667</td>\n",
              "      <td>-0.004354</td>\n",
              "    </tr>\n",
              "    <tr>\n",
              "      <th>2023-04-27</th>\n",
              "      <td>0.028395</td>\n",
              "      <td>0.017454</td>\n",
              "      <td>0.015823</td>\n",
              "      <td>0.018458</td>\n",
              "      <td>0.011071</td>\n",
              "      <td>0.034365</td>\n",
              "      <td>0.037370</td>\n",
              "      <td>0.015191</td>\n",
              "      <td>0.018841</td>\n",
              "      <td>0.010016</td>\n",
              "      <td>0.055718</td>\n",
              "      <td>0.017369</td>\n",
              "      <td>0.026116</td>\n",
              "      <td>0.020224</td>\n",
              "      <td>0.003114</td>\n",
              "    </tr>\n",
              "    <tr>\n",
              "      <th>2023-04-28</th>\n",
              "      <td>0.007541</td>\n",
              "      <td>0.022072</td>\n",
              "      <td>0.013500</td>\n",
              "      <td>0.012857</td>\n",
              "      <td>0.003422</td>\n",
              "      <td>0.025718</td>\n",
              "      <td>0.034463</td>\n",
              "      <td>0.027914</td>\n",
              "      <td>0.017020</td>\n",
              "      <td>0.019210</td>\n",
              "      <td>-0.025000</td>\n",
              "      <td>-0.002529</td>\n",
              "      <td>-0.001382</td>\n",
              "      <td>0.000721</td>\n",
              "      <td>-0.002708</td>\n",
              "    </tr>\n",
              "  </tbody>\n",
              "</table>\n",
              "</div>"
            ],
            "text/plain": [
              "                AAPL       AMD       BAC       BLK       CVS       DIS   \n",
              "Date                                                                     \n",
              "2023-04-24  0.001879 -0.009725 -0.003683 -0.009913  0.008237  0.001105  \\\n",
              "2023-04-25 -0.009436 -0.043051 -0.030914 -0.021478 -0.007761 -0.016754   \n",
              "2023-04-26 -0.000061  0.025537 -0.013870 -0.013703 -0.008371 -0.014284   \n",
              "2023-04-27  0.028395  0.017454  0.015823  0.018458  0.011071  0.034365   \n",
              "2023-04-28  0.007541  0.022072  0.013500  0.012857  0.003422  0.025718   \n",
              "\n",
              "                INTU        JD        MA      NVDA       PBI       TGT   \n",
              "Date                                                                     \n",
              "2023-04-24 -0.009140 -0.026663 -0.001359 -0.002839 -0.013441  0.010852  \\\n",
              "2023-04-25 -0.050846 -0.028258 -0.016545 -0.029621 -0.029973 -0.038612   \n",
              "2023-04-26 -0.014601  0.015727 -0.004803  0.027247 -0.042135 -0.013705   \n",
              "2023-04-27  0.037370  0.015191  0.018841  0.010016  0.055718  0.017369   \n",
              "2023-04-28  0.034463  0.027914  0.017020  0.019210 -0.025000 -0.002529   \n",
              "\n",
              "                  TM        UL       WMT  \n",
              "Date                                      \n",
              "2023-04-24  0.001262  0.000734  0.006788  \n",
              "2023-04-25 -0.009864  0.002750 -0.007790  \n",
              "2023-04-26  0.003820 -0.005667 -0.004354  \n",
              "2023-04-27  0.026116  0.020224  0.003114  \n",
              "2023-04-28 -0.001382  0.000721 -0.002708  "
            ]
          },
          "execution_count": 3,
          "metadata": {},
          "output_type": "execute_result"
        }
      ],
      "source": [
        "from pypfopt import expected_returns\n",
        "\n",
        "rets = expected_returns.returns_from_prices(prices)\n",
        "rets.tail()"
      ]
    },
    {
      "attachments": {},
      "cell_type": "markdown",
      "id": "answering-tamil",
      "metadata": {
        "id": "answering-tamil"
      },
      "source": [
        "## HRP optimization\n",
        "\n",
        "HRP uses a completely different backend, so it is currently not possible to pass constraints or specify an objective function."
      ]
    },
    {
      "cell_type": "code",
      "execution_count": 4,
      "id": "crazy-minority",
      "metadata": {
        "id": "crazy-minority"
      },
      "outputs": [],
      "source": [
        "from pypfopt import HRPOpt"
      ]
    },
    {
      "cell_type": "code",
      "execution_count": 5,
      "id": "determined-license",
      "metadata": {
        "colab": {
          "base_uri": "https://localhost:8080/"
        },
        "id": "determined-license",
        "outputId": "ba776958-535f-475b-b6bf-7c6994d311f8"
      },
      "outputs": [
        {
          "data": {
            "text/plain": [
              "OrderedDict([('AAPL', 0.03501),\n",
              "             ('AMD', 0.0175),\n",
              "             ('BAC', 0.0461),\n",
              "             ('BLK', 0.04916),\n",
              "             ('CVS', 0.09592),\n",
              "             ('DIS', 0.06697),\n",
              "             ('INTU', 0.03229),\n",
              "             ('JD', 0.04161),\n",
              "             ('MA', 0.05053),\n",
              "             ('NVDA', 0.01689),\n",
              "             ('PBI', 0.08005),\n",
              "             ('TGT', 0.08748),\n",
              "             ('TM', 0.11489),\n",
              "             ('UL', 0.15641),\n",
              "             ('WMT', 0.1092)])"
            ]
          },
          "execution_count": 5,
          "metadata": {},
          "output_type": "execute_result"
        }
      ],
      "source": [
        "hrp = HRPOpt(rets)\n",
        "hrp.optimize()\n",
        "weights = hrp.clean_weights()\n",
        "weights"
      ]
    },
    {
      "cell_type": "code",
      "execution_count": 6,
      "id": "existing-memphis",
      "metadata": {
        "colab": {
          "base_uri": "https://localhost:8080/",
          "height": 575
        },
        "id": "existing-memphis",
        "outputId": "721f641a-3871-4bae-84f8-94cc0b75be87"
      },
      "outputs": [
        {
          "data": {
            "image/png": "[encoded data removed]",
            "text/plain": [
              "<Figure size 1000x1000 with 1 Axes>"
            ]
          },
          "metadata": {},
          "output_type": "display_data"
        }
      ],
      "source": [
        "pd.Series(weights).plot.pie(figsize=(10, 10));"
      ]
    },
    {
      "cell_type": "code",
      "execution_count": 7,
      "id": "dramatic-spyware",
      "metadata": {
        "colab": {
          "base_uri": "https://localhost:8080/"
        },
        "id": "dramatic-spyware",
        "outputId": "03958175-ebf7-4eb0-cc3a-57d969056f36"
      },
      "outputs": [
        {
          "name": "stdout",
          "output_type": "stream",
          "text": [
            "Expected annual return: 18.6%\n",
            "Annual volatility: 19.1%\n",
            "Sharpe Ratio: 0.87\n"
          ]
        }
      ],
      "source": [
        "hrp.portfolio_performance(verbose=True);"
      ]
    },
    {
      "attachments": {},
      "cell_type": "markdown",
      "id": "occupational-costume",
      "metadata": {
        "id": "occupational-costume"
      },
      "source": [
        "## Plotting\n",
        "\n",
        "It is very simple to plot a dendrogram (tree diagram) based on the hierarchical structure of asset returns"
      ]
    },
    {
      "cell_type": "code",
      "execution_count": 8,
      "id": "upset-meaning",
      "metadata": {
        "colab": {
          "base_uri": "https://localhost:8080/",
          "height": 297
        },
        "id": "upset-meaning",
        "outputId": "65f2985a-e74f-405c-a01a-d7877a0e5326"
      },
      "outputs": [
        {
          "data": {
            "image/png": "[encoded data removed]",
            "text/plain": [
              "<Figure size 640x480 with 1 Axes>"
            ]
          },
          "metadata": {},
          "output_type": "display_data"
        }
      ],
      "source": [
        "from pypfopt import plotting\n",
        "\n",
        "plotting.plot_dendrogram(hrp); "
      ]
    },
    {
      "attachments": {},
      "cell_type": "markdown",
      "id": "brave-shock",
      "metadata": {
        "id": "brave-shock"
      },
      "source": [
        "If you look at this dendogram closely, you can see that most of the clusters make a lot of sense. For example, AMD and NVDA (both semiconductor manufacturers) are grouped."
      ]
    }
  ],
  "metadata": {
    "colab": {
      "collapsed_sections": [],
      "name": "5-Hierarchical-Risk-Parity.ipynb",
      "provenance": []
    },
    "kernelspec": {
      "display_name": "Python 3",
      "name": "python3"
    },
    "language_info": {
      "codemirror_mode": {
        "name": "ipython",
        "version": 3
      },
      "file_extension": ".py",
      "mimetype": "text/x-python",
      "name": "python",
      "nbconvert_exporter": "python",
      "pygments_lexer": "ipython3",
      "version": "3.11.3"
    }
  },
  "nbformat": 4,
  "nbformat_minor": 5
}
