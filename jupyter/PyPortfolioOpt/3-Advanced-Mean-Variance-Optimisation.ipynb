{
  "cells": [
    {
      "attachments": {},
      "cell_type": "markdown",
      "metadata": {
        "id": "pQhw2JJu_YO0"
      },
      "source": [
        "# Advanced MVO - custom objectives\n",
        "\n",
        "PyPortfolioOpt has implemented some of the most common objective functions (e.g `min_volatility`, `max_sharpe`, `max_quadratic_utility`, `efficient_risk`, `efficient_return`). However, sometimes yoy may have an idea for a different objective function.\n",
        "\n",
        "In this cookbook recipe, we cover:\n",
        "\n",
        "- Mininimising transaction costs\n",
        "- Custom convex objectives\n",
        "- Custom nonconvex objectives\n",
        "\n",
        "## Acquiring data\n",
        "\n",
        "As discussed in the previous notebook, assets are an exogenous input (i.e you must come up with a list of tickers). We will use `yfinance` to download data for thesee tickers"
      ]
    },
    {
      "cell_type": "code",
      "execution_count": 2,
      "metadata": {
        "id": "yd0GLGye_YO1"
      },
      "outputs": [],
      "source": [
        "import yfinance as yf\n",
        "import pandas as pd\n",
        "import numpy as np\n",
        "import matplotlib.pyplot as plt"
      ]
    },
    {
      "cell_type": "code",
      "execution_count": 3,
      "metadata": {
        "id": "HRko0Vbr_YO2"
      },
      "outputs": [],
      "source": [
        "tickers = [\"BLK\", \"BAC\", \"AAPL\", \"TM\", \"WMT\",\n",
        "           \"JD\", \"INTU\", \"MA\", \"UL\", \"CVS\",\n",
        "           \"DIS\", \"AMD\", \"NVDA\", \"PBI\", \"TGT\"]"
      ]
    },
    {
      "cell_type": "code",
      "execution_count": 4,
      "metadata": {
        "colab": {
          "base_uri": "https://localhost:8080/"
        },
        "id": "b8QidoAw_YO2",
        "outputId": "cc6b4958-fa84-48d8-9a8a-3dd63d59d085"
      },
      "outputs": [
        {
          "name": "stdout",
          "output_type": "stream",
          "text": [
            "[*********************100%***********************]  15 of 15 completed\n"
          ]
        }
      ],
      "source": [
        "ohlc = yf.download(tickers, period=\"max\")"
      ]
    },
    {
      "cell_type": "code",
      "execution_count": 5,
      "metadata": {
        "colab": {
          "base_uri": "https://localhost:8080/",
          "height": 368
        },
        "id": "41-UTlPR_YO3",
        "outputId": "45e79da8-c066-4962-d5e2-57baafa8d68c"
      },
      "outputs": [
        {
          "data": {
            "text/html": [
              "<div>\n",
              "<style scoped>\n",
              "    .dataframe tbody tr th:only-of-type {\n",
              "        vertical-align: middle;\n",
              "    }\n",
              "\n",
              "    .dataframe tbody tr th {\n",
              "        vertical-align: top;\n",
              "    }\n",
              "\n",
              "    .dataframe thead th {\n",
              "        text-align: right;\n",
              "    }\n",
              "</style>\n",
              "<table border=\"1\" class=\"dataframe\">\n",
              "  <thead>\n",
              "    <tr style=\"text-align: right;\">\n",
              "      <th></th>\n",
              "      <th>AAPL</th>\n",
              "      <th>AMD</th>\n",
              "      <th>BAC</th>\n",
              "      <th>BLK</th>\n",
              "      <th>CVS</th>\n",
              "      <th>DIS</th>\n",
              "      <th>INTU</th>\n",
              "      <th>JD</th>\n",
              "      <th>MA</th>\n",
              "      <th>NVDA</th>\n",
              "      <th>PBI</th>\n",
              "      <th>TGT</th>\n",
              "      <th>TM</th>\n",
              "      <th>UL</th>\n",
              "      <th>WMT</th>\n",
              "    </tr>\n",
              "    <tr>\n",
              "      <th>Date</th>\n",
              "      <th></th>\n",
              "      <th></th>\n",
              "      <th></th>\n",
              "      <th></th>\n",
              "      <th></th>\n",
              "      <th></th>\n",
              "      <th></th>\n",
              "      <th></th>\n",
              "      <th></th>\n",
              "      <th></th>\n",
              "      <th></th>\n",
              "      <th></th>\n",
              "      <th></th>\n",
              "      <th></th>\n",
              "      <th></th>\n",
              "    </tr>\n",
              "  </thead>\n",
              "  <tbody>\n",
              "    <tr>\n",
              "      <th>2023-04-24</th>\n",
              "      <td>165.330002</td>\n",
              "      <td>87.570000</td>\n",
              "      <td>29.760000</td>\n",
              "      <td>674.190002</td>\n",
              "      <td>73.440002</td>\n",
              "      <td>99.680000</td>\n",
              "      <td>442.320007</td>\n",
              "      <td>34.680000</td>\n",
              "      <td>374.730011</td>\n",
              "      <td>270.420013</td>\n",
              "      <td>3.67</td>\n",
              "      <td>163.940002</td>\n",
              "      <td>134.839996</td>\n",
              "      <td>54.549999</td>\n",
              "      <td>152.759995</td>\n",
              "    </tr>\n",
              "    <tr>\n",
              "      <th>2023-04-25</th>\n",
              "      <td>163.770004</td>\n",
              "      <td>83.800003</td>\n",
              "      <td>28.840000</td>\n",
              "      <td>659.710022</td>\n",
              "      <td>72.870003</td>\n",
              "      <td>98.010002</td>\n",
              "      <td>419.829987</td>\n",
              "      <td>33.700001</td>\n",
              "      <td>368.529999</td>\n",
              "      <td>262.410004</td>\n",
              "      <td>3.56</td>\n",
              "      <td>157.610001</td>\n",
              "      <td>133.509995</td>\n",
              "      <td>54.700001</td>\n",
              "      <td>151.570007</td>\n",
              "    </tr>\n",
              "    <tr>\n",
              "      <th>2023-04-26</th>\n",
              "      <td>163.759995</td>\n",
              "      <td>85.940002</td>\n",
              "      <td>28.440001</td>\n",
              "      <td>650.669983</td>\n",
              "      <td>72.260002</td>\n",
              "      <td>96.610001</td>\n",
              "      <td>413.700012</td>\n",
              "      <td>34.230000</td>\n",
              "      <td>366.760010</td>\n",
              "      <td>269.559998</td>\n",
              "      <td>3.41</td>\n",
              "      <td>155.449997</td>\n",
              "      <td>134.020004</td>\n",
              "      <td>54.389999</td>\n",
              "      <td>150.910004</td>\n",
              "    </tr>\n",
              "    <tr>\n",
              "      <th>2023-04-27</th>\n",
              "      <td>168.410004</td>\n",
              "      <td>87.440002</td>\n",
              "      <td>28.889999</td>\n",
              "      <td>662.679993</td>\n",
              "      <td>73.059998</td>\n",
              "      <td>99.930000</td>\n",
              "      <td>429.160004</td>\n",
              "      <td>34.750000</td>\n",
              "      <td>373.670013</td>\n",
              "      <td>272.260010</td>\n",
              "      <td>3.60</td>\n",
              "      <td>158.149994</td>\n",
              "      <td>137.520004</td>\n",
              "      <td>55.490002</td>\n",
              "      <td>151.380005</td>\n",
              "    </tr>\n",
              "    <tr>\n",
              "      <th>2023-04-28</th>\n",
              "      <td>169.679993</td>\n",
              "      <td>89.370003</td>\n",
              "      <td>29.280001</td>\n",
              "      <td>671.200012</td>\n",
              "      <td>73.309998</td>\n",
              "      <td>102.500000</td>\n",
              "      <td>443.950012</td>\n",
              "      <td>35.720001</td>\n",
              "      <td>380.029999</td>\n",
              "      <td>277.489990</td>\n",
              "      <td>3.51</td>\n",
              "      <td>157.750000</td>\n",
              "      <td>137.330002</td>\n",
              "      <td>55.529999</td>\n",
              "      <td>150.970001</td>\n",
              "    </tr>\n",
              "  </tbody>\n",
              "</table>\n",
              "</div>"
            ],
            "text/plain": [
              "                  AAPL        AMD        BAC         BLK        CVS   \n",
              "Date                                                                  \n",
              "2023-04-24  165.330002  87.570000  29.760000  674.190002  73.440002  \\\n",
              "2023-04-25  163.770004  83.800003  28.840000  659.710022  72.870003   \n",
              "2023-04-26  163.759995  85.940002  28.440001  650.669983  72.260002   \n",
              "2023-04-27  168.410004  87.440002  28.889999  662.679993  73.059998   \n",
              "2023-04-28  169.679993  89.370003  29.280001  671.200012  73.309998   \n",
              "\n",
              "                   DIS        INTU         JD          MA        NVDA   PBI   \n",
              "Date                                                                          \n",
              "2023-04-24   99.680000  442.320007  34.680000  374.730011  270.420013  3.67  \\\n",
              "2023-04-25   98.010002  419.829987  33.700001  368.529999  262.410004  3.56   \n",
              "2023-04-26   96.610001  413.700012  34.230000  366.760010  269.559998  3.41   \n",
              "2023-04-27   99.930000  429.160004  34.750000  373.670013  272.260010  3.60   \n",
              "2023-04-28  102.500000  443.950012  35.720001  380.029999  277.489990  3.51   \n",
              "\n",
              "                   TGT          TM         UL         WMT  \n",
              "Date                                                       \n",
              "2023-04-24  163.940002  134.839996  54.549999  152.759995  \n",
              "2023-04-25  157.610001  133.509995  54.700001  151.570007  \n",
              "2023-04-26  155.449997  134.020004  54.389999  150.910004  \n",
              "2023-04-27  158.149994  137.520004  55.490002  151.380005  \n",
              "2023-04-28  157.750000  137.330002  55.529999  150.970001  "
            ]
          },
          "execution_count": 5,
          "metadata": {},
          "output_type": "execute_result"
        }
      ],
      "source": [
        "prices = ohlc[\"Adj Close\"]\n",
        "prices.tail()"
      ]
    },
    {
      "attachments": {},
      "cell_type": "markdown",
      "metadata": {
        "id": "8fZeMKRg_YO4"
      },
      "source": [
        "## Expected returns and risk models\n",
        "\n",
        "In this notebook, we will use James-Stein shrinkage and semicovariance (which only penalises downside risk)."
      ]
    },
    {
      "cell_type": "code",
      "execution_count": 6,
      "metadata": {
        "colab": {
          "base_uri": "https://localhost:8080/",
          "height": 35
        },
        "id": "5_0F7H7k_YO4",
        "outputId": "973ab4df-85ba-45bc-a907-2be2ec28793c"
      },
      "outputs": [
        {
          "data": {
            "text/plain": [
              "'1.5.2'"
            ]
          },
          "execution_count": 6,
          "metadata": {},
          "output_type": "execute_result"
        }
      ],
      "source": [
        "import pypfopt\n",
        "pypfopt.__version__"
      ]
    },
    {
      "cell_type": "code",
      "execution_count": 7,
      "metadata": {
        "id": "U6m_oOBG_YO4"
      },
      "outputs": [],
      "source": [
        "from pypfopt import risk_models, expected_returns\n",
        "from pypfopt import plotting\n",
        "\n",
        "mu = expected_returns.capm_return(prices)\n",
        "S = risk_models.semicovariance(prices)"
      ]
    },
    {
      "cell_type": "code",
      "execution_count": 8,
      "metadata": {
        "colab": {
          "base_uri": "https://localhost:8080/",
          "height": 320
        },
        "id": "V-3Q-NM__YO5",
        "outputId": "57e931b0-70d9-4cb7-c0e8-741fb86db943"
      },
      "outputs": [
        {
          "data": {
            "image/png": "[encoded data removed]",
            "text/plain": [
              "<Figure size 1000x500 with 1 Axes>"
            ]
          },
          "metadata": {},
          "output_type": "display_data"
        }
      ],
      "source": [
        "mu.plot.barh(figsize=(10,5));"
      ]
    },
    {
      "cell_type": "code",
      "execution_count": 9,
      "metadata": {
        "colab": {
          "base_uri": "https://localhost:8080/",
          "height": 297
        },
        "id": "pgEDbNJ7_YO5",
        "outputId": "ac4edb81-60a7-48dc-ea68-02926985e564"
      },
      "outputs": [
        {
          "data": {
            "image/png": "[encoded data removed]",
            "text/plain": [
              "<Figure size 640x480 with 2 Axes>"
            ]
          },
          "metadata": {},
          "output_type": "display_data"
        }
      ],
      "source": [
        "plotting.plot_covariance(S, plot_correlation=True);"
      ]
    },
    {
      "attachments": {},
      "cell_type": "markdown",
      "metadata": {
        "id": "8V6jyzsw_YO5"
      },
      "source": [
        "## Min volatility with a transaction cost objective\n",
        "\n",
        "Let's say that you already have a portfolio, and want to now optimize it. It could be quite expensive to completely reallocate, so you may want to take into account transaction costs. PyPortfolioOpt provides a simple objective to account for this.\n",
        "\n",
        "Note: this objective will not play nicely with `max_sharpe`."
      ]
    },
    {
      "cell_type": "code",
      "execution_count": 10,
      "metadata": {
        "id": "70ib0FwA_YO5"
      },
      "outputs": [],
      "source": [
        "# Pretend that you started with a default-weight allocation\n",
        "initial_weights = np.array([1/len(tickers)] * len(tickers))"
      ]
    },
    {
      "cell_type": "code",
      "execution_count": 11,
      "metadata": {
        "colab": {
          "base_uri": "https://localhost:8080/"
        },
        "id": "h4DCRaLe_YO6",
        "outputId": "bab1cd04-1fb4-4d87-d784-ec3006753ba3"
      },
      "outputs": [
        {
          "data": {
            "text/plain": [
              "OrderedDict([('AAPL', 0.0388),\n",
              "             ('AMD', 0.0),\n",
              "             ('BAC', 0.02917),\n",
              "             ('BLK', 0.06667),\n",
              "             ('CVS', 0.06667),\n",
              "             ('DIS', 0.06667),\n",
              "             ('INTU', 0.06667),\n",
              "             ('JD', 0.2103),\n",
              "             ('MA', 0.06667),\n",
              "             ('NVDA', 0.05506),\n",
              "             ('PBI', 0.06667),\n",
              "             ('TGT', 0.06667),\n",
              "             ('TM', 0.06667),\n",
              "             ('UL', 0.06667),\n",
              "             ('WMT', 0.06667)])"
            ]
          },
          "execution_count": 11,
          "metadata": {},
          "output_type": "execute_result"
        }
      ],
      "source": [
        "from pypfopt import EfficientFrontier, objective_functions\n",
        "\n",
        "ef = EfficientFrontier(mu, S)\n",
        "\n",
        "# 1% broker commission\n",
        "ef.add_objective(objective_functions.transaction_cost, w_prev=initial_weights, k=0.01)\n",
        "ef.min_volatility()\n",
        "weights = ef.clean_weights()\n",
        "weights"
      ]
    },
    {
      "attachments": {},
      "cell_type": "markdown",
      "metadata": {
        "id": "iTTvy6xH_YO6"
      },
      "source": [
        "Notice that many of the weights are 0.06667, i.e your original equal weight. In fact, the only change has been an allocation of AMD's weight to JD. If we lower the cost `k`, the allocation will change more:"
      ]
    },
    {
      "cell_type": "code",
      "execution_count": 12,
      "metadata": {
        "colab": {
          "base_uri": "https://localhost:8080/"
        },
        "id": "pTepg1-Q_YO6",
        "outputId": "335af198-0d41-482c-a923-617240ee5ffd"
      },
      "outputs": [
        {
          "data": {
            "text/plain": [
              "OrderedDict([('AAPL', 0.0),\n",
              "             ('AMD', 0.0),\n",
              "             ('BAC', 0.0),\n",
              "             ('BLK', 0.06667),\n",
              "             ('CVS', 0.05716),\n",
              "             ('DIS', 0.0),\n",
              "             ('INTU', 0.00719),\n",
              "             ('JD', 0.34417),\n",
              "             ('MA', 0.24479),\n",
              "             ('NVDA', 0.0),\n",
              "             ('PBI', 0.0),\n",
              "             ('TGT', 0.0),\n",
              "             ('TM', 0.06667),\n",
              "             ('UL', 0.13733),\n",
              "             ('WMT', 0.07603)])"
            ]
          },
          "execution_count": 12,
          "metadata": {},
          "output_type": "execute_result"
        }
      ],
      "source": [
        "ef = EfficientFrontier(mu, S)\n",
        "ef.add_objective(objective_functions.transaction_cost, w_prev=initial_weights, k=0.001)\n",
        "ef.min_volatility()\n",
        "weights = ef.clean_weights()\n",
        "weights"
      ]
    },
    {
      "attachments": {},
      "cell_type": "markdown",
      "metadata": {
        "id": "YM-gPp1S_YO7"
      },
      "source": [
        "The optimizer seems to really like JD. The reason for this is that it is highly anticorrelated to other assets (notice the dark column in the covariance plot). Hence, historically, it adds a lot of diversification. But it is dangerous to place too much emphasis on what happened in the past, so we may want to limit the asset weights. \n",
        "\n",
        "In addition, we notice that 4 stocks have now been allocated zero weight, which may be undesirable. Both of these problems can be fixed by adding an [L2 regularisation objective](https://pyportfolioopt.readthedocs.io/en/latest/EfficientFrontier.html#more-on-l2-regularisation). "
      ]
    },
    {
      "cell_type": "code",
      "execution_count": 13,
      "metadata": {
        "colab": {
          "base_uri": "https://localhost:8080/"
        },
        "id": "Mh22zJrI_YO7",
        "outputId": "f6b4707d-c5cb-4c81-d676-7f1cc9c412e5"
      },
      "outputs": [
        {
          "data": {
            "text/plain": [
              "OrderedDict([('AAPL', 0.06206),\n",
              "             ('AMD', 0.05354),\n",
              "             ('BAC', 0.06242),\n",
              "             ('BLK', 0.0704),\n",
              "             ('CVS', 0.06717),\n",
              "             ('DIS', 0.06516),\n",
              "             ('INTU', 0.06665),\n",
              "             ('JD', 0.07642),\n",
              "             ('MA', 0.07336),\n",
              "             ('NVDA', 0.06329),\n",
              "             ('PBI', 0.06461),\n",
              "             ('TGT', 0.0659),\n",
              "             ('TM', 0.06939),\n",
              "             ('UL', 0.0712),\n",
              "             ('WMT', 0.06845)])"
            ]
          },
          "execution_count": 13,
          "metadata": {},
          "output_type": "execute_result"
        }
      ],
      "source": [
        "ef = EfficientFrontier(mu, S)\n",
        "ef.add_objective(objective_functions.transaction_cost, w_prev=initial_weights, k=0.001)\n",
        "ef.add_objective(objective_functions.L2_reg)\n",
        "ef.min_volatility()\n",
        "weights = ef.clean_weights()\n",
        "weights"
      ]
    },
    {
      "attachments": {},
      "cell_type": "markdown",
      "metadata": {
        "id": "zQrFckqY_YO7"
      },
      "source": [
        "This has had too much of an evening-out effect. After all, if the resulting allocation is going to be so close to equal weights, we may as well stick with our initial allocation. We can reduce the strength of the L2 regularisation by reducing `gamma`:"
      ]
    },
    {
      "cell_type": "code",
      "execution_count": 14,
      "metadata": {
        "colab": {
          "base_uri": "https://localhost:8080/"
        },
        "id": "VdeeHz8J_YO7",
        "outputId": "735a86d3-078e-4a28-cb2e-19da01de4542"
      },
      "outputs": [
        {
          "data": {
            "text/plain": [
              "OrderedDict([('AAPL', 0.02121),\n",
              "             ('AMD', 0.0),\n",
              "             ('BAC', 0.01059),\n",
              "             ('BLK', 0.09793),\n",
              "             ('CVS', 0.06667),\n",
              "             ('DIS', 0.04318),\n",
              "             ('INTU', 0.0584),\n",
              "             ('JD', 0.17525),\n",
              "             ('MA', 0.13949),\n",
              "             ('NVDA', 0.02364),\n",
              "             ('PBI', 0.03503),\n",
              "             ('TGT', 0.04996),\n",
              "             ('TM', 0.08828),\n",
              "             ('UL', 0.11084),\n",
              "             ('WMT', 0.07954)])"
            ]
          },
          "execution_count": 14,
          "metadata": {},
          "output_type": "execute_result"
        }
      ],
      "source": [
        "ef = EfficientFrontier(mu, S)\n",
        "ef.add_objective(objective_functions.transaction_cost, w_prev=initial_weights, k=0.001)\n",
        "ef.add_objective(objective_functions.L2_reg, gamma=0.05)  # default is 1\n",
        "ef.min_volatility()\n",
        "weights = ef.clean_weights()\n",
        "weights"
      ]
    },
    {
      "cell_type": "code",
      "execution_count": 15,
      "metadata": {
        "colab": {
          "base_uri": "https://localhost:8080/"
        },
        "id": "EFN7ul8-_YO8",
        "outputId": "575da3e2-c1ed-4821-dbec-8475d1f0c3b7"
      },
      "outputs": [
        {
          "name": "stdout",
          "output_type": "stream",
          "text": [
            "Expected annual return: 17.6%\n",
            "Annual volatility: 10.0%\n",
            "Sharpe Ratio: 1.56\n"
          ]
        }
      ],
      "source": [
        "ef.portfolio_performance(verbose=True);"
      ]
    },
    {
      "attachments": {},
      "cell_type": "markdown",
      "metadata": {
        "id": "ra5fBWi8_YO8"
      },
      "source": [
        "This portfolio is now reasonably balanced, but also puts significantly more weight on JD. "
      ]
    },
    {
      "cell_type": "code",
      "execution_count": 16,
      "metadata": {
        "colab": {
          "base_uri": "https://localhost:8080/",
          "height": 575
        },
        "id": "3Klc-L_8_YO8",
        "outputId": "9bc2e6e6-9411-4be4-a851-918a648b5306"
      },
      "outputs": [
        {
          "data": {
            "image/png": "[encoded data removed]",
            "text/plain": [
              "<Figure size 1000x1000 with 1 Axes>"
            ]
          },
          "metadata": {},
          "output_type": "display_data"
        }
      ],
      "source": [
        "pd.Series(weights).plot.pie(figsize=(10,10));"
      ]
    },
    {
      "attachments": {},
      "cell_type": "markdown",
      "metadata": {
        "id": "A4s-3rWa_YO9"
      },
      "source": [
        "## Custom convex objectives\n",
        "\n",
        "PyPortfolioOpt comes with the following built-in objective functions, as of v1.2.1:\n",
        "\n",
        "- Portfolio variance (i.e square of volatility)\n",
        "- Portfolio return\n",
        "- Sharpe ratio\n",
        "- L2 regularisation (minimising this reduces nonzero weights)\n",
        "- Quadratic utility\n",
        "- Transaction cost model (a simple one)\n",
        "\n",
        "However, you may want have a different objective. If this new objective is **convex**, you can optimize a portfolio with the full benefit of PyPortfolioOpt's modular syntax, for example adding other constraints and objectives.\n",
        "\n",
        "To demonstrate this, we will minimise the **logarithmic-barrier** function suggested in the paper 60 Years of Portfolio Optimization, by Kolm et al (2014):\n",
        "\n",
        "$$f(w, S, k) = w^T S w - k \\sum_{i=1}^N \\ln w$$\n",
        "\n",
        "We must first convert this mathematical objective into the language of cvxpy. Cvxpy is a powerful modelling language for convex optimization problems. It is clean and easy to use, the only caveat is that objectives must be expressed with `cvxpy` functions, a list of which can be found [here](https://www.cvxpy.org/tutorial/functions/index.html)."
      ]
    },
    {
      "cell_type": "code",
      "execution_count": 17,
      "metadata": {
        "id": "5WjglE6d_YO9"
      },
      "outputs": [],
      "source": [
        "import cvxpy as cp\n",
        "\n",
        "# Note: functions are minimised. If you want to maximise an objective, stick a minus sign in it.\n",
        "def logarithmic_barrier_objective(w, cov_matrix, k=0.1):\n",
        "    log_sum = cp.sum(cp.log(w))\n",
        "    var = cp.quad_form(w, cov_matrix)\n",
        "    return var - k * log_sum"
      ]
    },
    {
      "attachments": {},
      "cell_type": "markdown",
      "metadata": {
        "id": "UxmNQahn_YO9"
      },
      "source": [
        "Once we have written the objective function, we can just use the `ef.convex_objective()` to minimise the objective."
      ]
    },
    {
      "cell_type": "code",
      "execution_count": 18,
      "metadata": {
        "colab": {
          "base_uri": "https://localhost:8080/"
        },
        "id": "SMsaFWHB_YO9",
        "outputId": "5a25c217-5d8b-4185-89de-a7379a5ef5fe"
      },
      "outputs": [
        {
          "data": {
            "text/plain": [
              "OrderedDict([('AAPL', 0.03869),\n",
              "             ('AMD', 0.02566),\n",
              "             ('BAC', 0.03801),\n",
              "             ('BLK', 0.07715),\n",
              "             ('CVS', 0.05848),\n",
              "             ('DIS', 0.04617),\n",
              "             ('INTU', 0.05107),\n",
              "             ('JD', 0.18881),\n",
              "             ('MA', 0.11679),\n",
              "             ('NVDA', 0.03978),\n",
              "             ('PBI', 0.0436),\n",
              "             ('TGT', 0.04865),\n",
              "             ('TM', 0.07158),\n",
              "             ('UL', 0.08835),\n",
              "             ('WMT', 0.06721)])"
            ]
          },
          "execution_count": 18,
          "metadata": {},
          "output_type": "execute_result"
        }
      ],
      "source": [
        "ef = EfficientFrontier(mu, S, weight_bounds=(0.01, 0.2))\n",
        "ef.convex_objective(logarithmic_barrier_objective, cov_matrix=S, k=0.001)\n",
        "weights = ef.clean_weights()\n",
        "weights"
      ]
    },
    {
      "cell_type": "code",
      "execution_count": 19,
      "metadata": {
        "colab": {
          "base_uri": "https://localhost:8080/"
        },
        "id": "TGkjjU3z_YO-",
        "outputId": "d8e09c26-503d-4ac6-e57b-f81af6456544"
      },
      "outputs": [
        {
          "name": "stdout",
          "output_type": "stream",
          "text": [
            "Expected annual return: 18.4%\n",
            "Annual volatility: 10.6%\n",
            "Sharpe Ratio: 1.55\n"
          ]
        }
      ],
      "source": [
        "ef.portfolio_performance(verbose=True);"
      ]
    },
    {
      "attachments": {},
      "cell_type": "markdown",
      "metadata": {
        "id": "mOAd1ncH_YO-"
      },
      "source": [
        "This is compatible with all the constraints discussed in the previous recipe. Let's say that we want to limit JD's weight to 15%."
      ]
    },
    {
      "cell_type": "code",
      "execution_count": 20,
      "metadata": {
        "colab": {
          "base_uri": "https://localhost:8080/"
        },
        "id": "J3rM2vkz_YO-",
        "outputId": "b00c2c60-47c5-419d-97d1-52957b32a56c"
      },
      "outputs": [
        {
          "data": {
            "text/plain": [
              "OrderedDict([('AAPL', 0.03941),\n",
              "             ('AMD', 0.02587),\n",
              "             ('BAC', 0.03848),\n",
              "             ('BLK', 0.08162),\n",
              "             ('CVS', 0.06052),\n",
              "             ('DIS', 0.04731),\n",
              "             ('INTU', 0.0528),\n",
              "             ('JD', 0.15),\n",
              "             ('MA', 0.12943),\n",
              "             ('NVDA', 0.04083),\n",
              "             ('PBI', 0.04484),\n",
              "             ('TGT', 0.04991),\n",
              "             ('TM', 0.07506),\n",
              "             ('UL', 0.0939),\n",
              "             ('WMT', 0.07001)])"
            ]
          },
          "execution_count": 20,
          "metadata": {},
          "output_type": "execute_result"
        }
      ],
      "source": [
        "ef = EfficientFrontier(mu, S, weight_bounds=(0.01, 0.2))\n",
        "jd_index = ef.tickers.index(\"JD\")  # get the index of JD\n",
        "ef.add_constraint(lambda w: w[jd_index] <= 0.15)\n",
        "ef.convex_objective(logarithmic_barrier_objective, cov_matrix=S, k=0.001)\n",
        "weights = ef.clean_weights()\n",
        "weights"
      ]
    },
    {
      "attachments": {},
      "cell_type": "markdown",
      "metadata": {
        "id": "v-ObCWVv_YO-"
      },
      "source": [
        "## Custom nonconvex objectives\n",
        "\n",
        "In some cases, you may be trying to optimize for nonconvex objectives. Optimization in general is a very hard problem, so please be aware that you may have mixed results in that case. Convex problems, on the other hand, are well understood and can be solved with nice theoretical guarantees.\n",
        "\n",
        "PyPortfolioOpt does offer some functionality for nonconvex optimization, but it is not really encouraged. In particular, nonconvex optimization is not compatible with PyPortfolioOpt's modular constraints API.\n",
        "\n",
        "As an example, we will use the Deviation Risk Parity objective from Kolm et al (2014). Because we are not using a convex solver, we don't have to define it using `cvxpy` functions."
      ]
    },
    {
      "cell_type": "code",
      "execution_count": 21,
      "metadata": {
        "id": "WYIshUU__YO-"
      },
      "outputs": [],
      "source": [
        "def deviation_risk_parity(w, cov_matrix):\n",
        "    diff = w * np.dot(cov_matrix, w) - (w * np.dot(cov_matrix, w)).reshape(-1, 1)\n",
        "    return (diff ** 2).sum().sum()"
      ]
    },
    {
      "cell_type": "code",
      "execution_count": 22,
      "metadata": {
        "colab": {
          "base_uri": "https://localhost:8080/"
        },
        "id": "_fgoI8gj_YO-",
        "outputId": "a3f3c341-503e-4b7a-ef96-8bdf462c6d8a"
      },
      "outputs": [
        {
          "data": {
            "text/plain": [
              "OrderedDict([('AAPL', 0.0412),\n",
              "             ('AMD', 0.03299),\n",
              "             ('BAC', 0.04102),\n",
              "             ('BLK', 0.08805),\n",
              "             ('CVS', 0.07088),\n",
              "             ('DIS', 0.05461),\n",
              "             ('INTU', 0.06369),\n",
              "             ('JD', 0.10116),\n",
              "             ('MA', 0.09742),\n",
              "             ('NVDA', 0.04735),\n",
              "             ('PBI', 0.05178),\n",
              "             ('TGT', 0.05872),\n",
              "             ('TM', 0.08316),\n",
              "             ('UL', 0.09062),\n",
              "             ('WMT', 0.07733)])"
            ]
          },
          "execution_count": 22,
          "metadata": {},
          "output_type": "execute_result"
        }
      ],
      "source": [
        "ef = EfficientFrontier(mu, S, weight_bounds=(0.01, 0.12))\n",
        "ef.nonconvex_objective(deviation_risk_parity, ef.cov_matrix)\n",
        "weights = ef.clean_weights()\n",
        "weights"
      ]
    },
    {
      "attachments": {},
      "cell_type": "markdown",
      "metadata": {
        "id": "1JJVTSOb_YO_"
      },
      "source": [
        "However, let's say we now want to enforce that JD has a weight of 10%. In the convex case, this would be as simple as:\n",
        "\n",
        "```python\n",
        "ef.add_objective(lambda w: w[jd_index] == 0.10)\n",
        "```\n",
        "\n",
        "But unfortunately, scipy does not allow for such intuitive syntax. You will need to rearrange your constraints to make them either `=0` or `<= 0`. \n",
        "\n",
        "```python\n",
        "constraints = [\n",
        "    # First constraint\n",
        "     {\"type\": \"eq\",  # equality constraint,\n",
        "      \"fun\": lambda w: w[1] - 0.2},  # the equality functions are assumed to = 0 \n",
        "      \n",
        "    # Second constraint\n",
        "    {\"type\": \"ineq\",  # inequality constraint\n",
        "     \"fun\": lambda w: w[0] - 0.5}   # inequality functions <= 0\n",
        "]\n",
        "```\n",
        "\n",
        "For more information, you can consult the [scipy docs](https://docs.scipy.org/doc/scipy/reference/generated/scipy.optimize.minimize.html), but they aren't very helpful."
      ]
    },
    {
      "cell_type": "code",
      "execution_count": 23,
      "metadata": {
        "colab": {
          "base_uri": "https://localhost:8080/"
        },
        "id": "84sElIfw_YO_",
        "outputId": "f4e9713d-2215-4093-9900-17a2035c5906"
      },
      "outputs": [
        {
          "data": {
            "text/plain": [
              "OrderedDict([('AAPL', 0.05634),\n",
              "             ('AMD', 0.03025),\n",
              "             ('BAC', 0.05846),\n",
              "             ('BLK', 0.07335),\n",
              "             ('CVS', 0.06955),\n",
              "             ('DIS', 0.06423),\n",
              "             ('INTU', 0.06691),\n",
              "             ('JD', 0.1),\n",
              "             ('MA', 0.07507),\n",
              "             ('NVDA', 0.05972),\n",
              "             ('PBI', 0.06314),\n",
              "             ('TGT', 0.06572),\n",
              "             ('TM', 0.07221),\n",
              "             ('UL', 0.07391),\n",
              "             ('WMT', 0.07114)])"
            ]
          },
          "execution_count": 23,
          "metadata": {},
          "output_type": "execute_result"
        }
      ],
      "source": [
        "ef = EfficientFrontier(mu, S, weight_bounds=(0.01, 0.12))\n",
        "\n",
        "ef.nonconvex_objective(\n",
        "    deviation_risk_parity,\n",
        "    objective_args=S,\n",
        "    weights_sum_to_one=True,\n",
        "    constraints=[\n",
        "        {\"type\": \"eq\", \"fun\": lambda w: w[jd_index] - 0.10},  \n",
        "    ],\n",
        ")\n",
        "\n",
        "weights = ef.clean_weights()\n",
        "weights"
      ]
    },
    {
      "attachments": {},
      "cell_type": "markdown",
      "metadata": {
        "id": "0SoIPcj2_YO_"
      },
      "source": [
        "## More examples of nonconvex objectives\n",
        "\n",
        "The scipy format is not intuitive and is hard to explain, so here are a bunch of examples (adapted from the tests). Some of these are actually convex, so you should use `convex_objective` instead. "
      ]
    },
    {
      "cell_type": "code",
      "execution_count": 24,
      "metadata": {
        "colab": {
          "base_uri": "https://localhost:8080/"
        },
        "id": "vfzCiKQT_YO_",
        "outputId": "a6413d3f-22d7-4406-9904-c480be20bd53"
      },
      "outputs": [
        {
          "data": {
            "text/plain": [
              "OrderedDict([('AAPL', 0.04606),\n",
              "             ('AMD', 0.03312),\n",
              "             ('BAC', 0.0459),\n",
              "             ('BLK', 0.07792),\n",
              "             ('CVS', 0.06294),\n",
              "             ('DIS', 0.05313),\n",
              "             ('INTU', 0.05744),\n",
              "             ('JD', 0.1406),\n",
              "             ('MA', 0.10211),\n",
              "             ('NVDA', 0.0478),\n",
              "             ('PBI', 0.05107),\n",
              "             ('TGT', 0.05525),\n",
              "             ('TM', 0.07325),\n",
              "             ('UL', 0.08421),\n",
              "             ('WMT', 0.06922)])"
            ]
          },
          "execution_count": 24,
          "metadata": {},
          "output_type": "execute_result"
        }
      ],
      "source": [
        "# Another example of deviation risk parity\n",
        "def deviation_risk_parity(w, cov_matrix):\n",
        "    n = cov_matrix.shape[0]\n",
        "    rp = (w * (cov_matrix @ w)) / cp.quad_form(w, cov_matrix)\n",
        "    return cp.sum_squares(rp - 1 / n).value\n",
        "\n",
        "ef = EfficientFrontier(mu, S)\n",
        "ef.nonconvex_objective(deviation_risk_parity, ef.cov_matrix)\n",
        "weights = ef.clean_weights()\n",
        "weights"
      ]
    },
    {
      "cell_type": "code",
      "execution_count": 25,
      "metadata": {
        "colab": {
          "base_uri": "https://localhost:8080/"
        },
        "id": "P2jqcyK7_YO_",
        "outputId": "59979140-7fd0-41cc-fb52-8b12586b2066"
      },
      "outputs": [
        {
          "data": {
            "text/plain": [
              "OrderedDict([('AAPL', 0.1),\n",
              "             ('AMD', 0.03387),\n",
              "             ('BAC', 0.04831),\n",
              "             ('BLK', 0.07496),\n",
              "             ('CVS', 0.06196),\n",
              "             ('DIS', 0.05396),\n",
              "             ('INTU', 0.05631),\n",
              "             ('JD', 0.11316),\n",
              "             ('MA', 0.09051),\n",
              "             ('NVDA', 0.04924),\n",
              "             ('PBI', 0.05302),\n",
              "             ('TGT', 0.05523),\n",
              "             ('TM', 0.06824),\n",
              "             ('UL', 0.0763),\n",
              "             ('WMT', 0.06491)])"
            ]
          },
          "execution_count": 25,
          "metadata": {},
          "output_type": "execute_result"
        }
      ],
      "source": [
        "# Deviation risk parity with weight bound on the first asset\n",
        "ef = EfficientFrontier(mu, S)\n",
        "ef.nonconvex_objective(deviation_risk_parity, \n",
        "                       ef.cov_matrix, \n",
        "                       constraints=[{\"type\":\"eq\", \"fun\":lambda w: w[0] - 0.1}])\n",
        "weights = ef.clean_weights()\n",
        "weights"
      ]
    },
    {
      "cell_type": "code",
      "execution_count": 26,
      "metadata": {
        "colab": {
          "base_uri": "https://localhost:8080/"
        },
        "id": "voar0fB2_YPA",
        "outputId": "2721f2ad-7b9f-4a8a-967a-48921b88e853"
      },
      "outputs": [
        {
          "data": {
            "text/plain": [
              "OrderedDict([('AAPL', 0.09092),\n",
              "             ('AMD', 0.16077),\n",
              "             ('BAC', 0.03341),\n",
              "             ('BLK', -0.08112),\n",
              "             ('CVS', -0.18049),\n",
              "             ('DIS', 0.19657),\n",
              "             ('INTU', 0.10105),\n",
              "             ('JD', 0.33803),\n",
              "             ('MA', 0.44723),\n",
              "             ('NVDA', 0.40685),\n",
              "             ('PBI', -0.04329),\n",
              "             ('TGT', 0.0043),\n",
              "             ('TM', -0.47909),\n",
              "             ('UL', -0.82709),\n",
              "             ('WMT', -0.16805)])"
            ]
          },
          "execution_count": 26,
          "metadata": {},
          "output_type": "execute_result"
        }
      ],
      "source": [
        "# Market-neutral efficient risk.\n",
        "# Please use ef.efficient_risk() for anything serious.\n",
        "target_risk = 0.19\n",
        "ef = EfficientFrontier(mu, S, weight_bounds=(None, None))\n",
        "\n",
        "# Weights sum to zero\n",
        "weight_constr = {\"type\": \"eq\", \"fun\": lambda w: np.sum(w)}\n",
        "\n",
        "# Portfolio vol less than target vol\n",
        "risk_constr = {\n",
        "    \"type\": \"eq\",\n",
        "    \"fun\": lambda w: target_risk ** 2 - np.dot(w.T, np.dot(ef.cov_matrix, w)),\n",
        "}\n",
        "constraints = [weight_constr, risk_constr]\n",
        "\n",
        "ef.nonconvex_objective(\n",
        "    lambda w, mu: -w.T.dot(mu),  # min negative return i.e max return\n",
        "    objective_args=(ef.expected_returns),\n",
        "    weights_sum_to_one=False,\n",
        "    constraints=constraints,\n",
        ")\n",
        "weights = ef.clean_weights()\n",
        "weights"
      ]
    },
    {
      "cell_type": "code",
      "execution_count": 27,
      "metadata": {
        "colab": {
          "base_uri": "https://localhost:8080/"
        },
        "id": "2kgcF-V9_YPH",
        "outputId": "862dc21d-2005-438b-eb0d-3ebe2d7e0222"
      },
      "outputs": [
        {
          "data": {
            "text/plain": [
              "OrderedDict([('AAPL', 0.0),\n",
              "             ('AMD', 0.04731),\n",
              "             ('BAC', 0.0),\n",
              "             ('BLK', 0.0),\n",
              "             ('CVS', 0.0),\n",
              "             ('DIS', 0.0),\n",
              "             ('INTU', 0.0),\n",
              "             ('JD', 0.0),\n",
              "             ('MA', 0.0),\n",
              "             ('NVDA', 0.95269),\n",
              "             ('PBI', 0.0),\n",
              "             ('TGT', 0.0),\n",
              "             ('TM', 0.0),\n",
              "             ('UL', 0.0),\n",
              "             ('WMT', 0.0)])"
            ]
          },
          "execution_count": 27,
          "metadata": {},
          "output_type": "execute_result"
        }
      ],
      "source": [
        "# Utility objective - you could actually use ef.max_quadratic_utility\n",
        "ef = EfficientFrontier(mu, S)\n",
        "\n",
        "def utility_obj(weights, mu, cov_matrix, k=1):\n",
        "    return -weights.dot(mu) + k * np.dot(weights.T, np.dot(cov_matrix, weights))\n",
        "\n",
        "ef.nonconvex_objective(\n",
        "    utility_obj,\n",
        "    objective_args=(ef.expected_returns, ef.cov_matrix, 1)\n",
        "    # default is for weights to sum to 1\n",
        ")\n",
        "\n",
        "weights = ef.clean_weights()\n",
        "weights"
      ]
    },
    {
      "cell_type": "code",
      "execution_count": 28,
      "metadata": {
        "colab": {
          "base_uri": "https://localhost:8080/"
        },
        "id": "LnNkM5DJ_YPH",
        "outputId": "874299e2-37a8-4783-9f8e-7608ff293837"
      },
      "outputs": [
        {
          "data": {
            "text/plain": [
              "1.0000000000000002"
            ]
          },
          "execution_count": 28,
          "metadata": {},
          "output_type": "execute_result"
        }
      ],
      "source": [
        "ef.weights.sum()"
      ]
    },
    {
      "cell_type": "code",
      "execution_count": 29,
      "metadata": {
        "colab": {
          "base_uri": "https://localhost:8080/"
        },
        "id": "FSFhcUz7_YPH",
        "outputId": "0a086117-7335-4558-aaee-c7c70c295f90"
      },
      "outputs": [
        {
          "data": {
            "text/plain": [
              "OrderedDict([('AAPL', 0.06667),\n",
              "             ('AMD', 0.06667),\n",
              "             ('BAC', 0.06667),\n",
              "             ('BLK', 0.06667),\n",
              "             ('CVS', 0.06667),\n",
              "             ('DIS', 0.06667),\n",
              "             ('INTU', 0.06667),\n",
              "             ('JD', 0.06667),\n",
              "             ('MA', 0.06667),\n",
              "             ('NVDA', 0.06667),\n",
              "             ('PBI', 0.06667),\n",
              "             ('TGT', 0.06667),\n",
              "             ('TM', 0.06667),\n",
              "             ('UL', 0.06667),\n",
              "             ('WMT', 0.06667)])"
            ]
          },
          "execution_count": 29,
          "metadata": {},
          "output_type": "execute_result"
        }
      ],
      "source": [
        "# Kelly objective with weight bounds on zeroth asset\n",
        "def kelly_objective(w, e_returns, cov_matrix, k=3):\n",
        "    variance = np.dot(w.T, np.dot(cov_matrix, w))\n",
        "    objective = variance * 0.5 * k - np.dot(w, e_returns)\n",
        "    return objective\n",
        "\n",
        "lower_bounds, upper_bounds = 0.01, 0.3\n",
        "ef = EfficientFrontier(mu, S)\n",
        "ef.nonconvex_objective(\n",
        "    kelly_objective,\n",
        "    objective_args=(ef.expected_returns, ef.cov_matrix, 1000),\n",
        "    constraints=[\n",
        "        {\"type\": \"eq\", \"fun\": lambda w: np.sum(w) - 1},\n",
        "        {\"type\": \"ineq\", \"fun\": lambda w: w[0] - lower_bounds},\n",
        "        {\"type\": \"ineq\", \"fun\": lambda w: upper_bounds - w[0]},\n",
        "    ],\n",
        ")\n",
        "\n",
        "weights = ef.clean_weights()\n",
        "weights"
      ]
    }
  ],
  "metadata": {
    "colab": {
      "collapsed_sections": [],
      "name": "3-Advanced-Mean-Variance-Optimisation.ipynb",
      "provenance": []
    },
    "kernelspec": {
      "display_name": "Python 3",
      "name": "python3"
    },
    "language_info": {
      "codemirror_mode": {
        "name": "ipython",
        "version": 3
      },
      "file_extension": ".py",
      "mimetype": "text/x-python",
      "name": "python",
      "nbconvert_exporter": "python",
      "pygments_lexer": "ipython3",
      "version": "3.11.3"
    }
  },
  "nbformat": 4,
  "nbformat_minor": 0
}
